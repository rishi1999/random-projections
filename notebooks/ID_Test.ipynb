{
 "cells": [
  {
   "cell_type": "code",
   "execution_count": 1,
   "metadata": {},
   "outputs": [],
   "source": [
    "import numpy as np\n",
    "import pandas as pd\n",
    "import scipy\n",
    "import scipy.linalg.interpolative as sli\n",
    "from matplotlib import pyplot as plt\n",
    "from tqdm.notebook import tqdm, trange\n",
    "from time import perf_counter\n",
    "from scipy.io import mmread\n",
    "from PIL import Image\n",
    "import glob"
   ]
  },
  {
   "cell_type": "code",
   "execution_count": 3,
   "metadata": {},
   "outputs": [],
   "source": [
    "rng = np.random.default_rng()"
   ]
  },
  {
   "cell_type": "markdown",
   "metadata": {},
   "source": [
    "## Define low-rank approximations"
   ]
  },
  {
   "cell_type": "markdown",
   "metadata": {},
   "source": [
    "### SVD"
   ]
  },
  {
   "cell_type": "code",
   "execution_count": 4,
   "metadata": {},
   "outputs": [],
   "source": [
    "def svd(A, k):\n",
    "    \"\"\"Computes the optimal deterministic rank-k approximation of the SVD of the input matrix.\"\"\"\n",
    "    U, sigma, Vh = np.linalg.svd(A, full_matrices=False)\n",
    "    Sigma = np.diag(sigma[:k])\n",
    "    return U[:,:k] @ Sigma @ Vh[:k], None, None"
   ]
  },
  {
   "cell_type": "markdown",
   "metadata": {},
   "source": [
    "### Optimized ID"
   ]
  },
  {
   "cell_type": "code",
   "execution_count": 5,
   "metadata": {},
   "outputs": [],
   "source": [
    "def optim_id(A, k):\n",
    "    \"\"\"Computes a rank-k ID approximation using an optimized least-squares solver.\"\"\"\n",
    "    \n",
    "    # if A is (m,n) with m <= n, then Q is (m,m), R is (m,n), and P is (n,)\n",
    "    Q, R, P = scipy.linalg.qr(A, pivoting=True, mode='economic', check_finite=False)\n",
    "\n",
    "    Q_k = Q[:,:k]\n",
    "    R_k = R[:k,:k]\n",
    "    cols = P[:k]\n",
    "    \n",
    "    C = A[:,cols]\n",
    "    \n",
    "    try:\n",
    "        Z = scipy.linalg.solve(R_k.T @ R_k, C.T @ A, overwrite_a=True, overwrite_b=True, assume_a='pos')\n",
    "    except np.linalg.LinAlgError:\n",
    "        data_rank = np.linalg.matrix_rank(A)\n",
    "        raise ValueError(f\"Invalid input: rank of data ({data_rank}) is less than requested rank of approximation ({k}).\")\n",
    "\n",
    "    approx = C @ Z\n",
    "\n",
    "    return approx, cols, Z"
   ]
  },
  {
   "cell_type": "markdown",
   "metadata": {},
   "source": [
    "### Optimized RID"
   ]
  },
  {
   "cell_type": "code",
   "execution_count": 6,
   "metadata": {},
   "outputs": [],
   "source": [
    "def _optim_rid(A, k, oversampling=10):\n",
    "    \"\"\"Computes a randomized rank-k ID approximation using an optimized least-squares solver.\"\"\"\n",
    "    \n",
    "    if oversampling < 0:\n",
    "        raise ValueError('Oversampling parameter cannot be negative.')\n",
    "        \n",
    "    p = k + oversampling\n",
    "    if p > A.shape[1]:\n",
    "        raise ValueError('Oversampling parameter is too large.')\n",
    "    \n",
    "    idx = rng.choice(A.shape[1], replace=False, size=p)\n",
    "    AS = A[:,idx]\n",
    "    \n",
    "    # if AS is (m,p) with m >= p, then Q is (m,p), R is (p,p), and P is (p,)\n",
    "    Q, R, P = scipy.linalg.qr(AS, pivoting=True, mode='economic', check_finite=False)\n",
    "\n",
    "    Q_k = Q[:,:k]  # removes the p-k oversampled columns\n",
    "    R_k = R[:k,:k]\n",
    "    _cols = P[:k]\n",
    "    cols = idx[_cols]\n",
    "    \n",
    "    C = AS[:,_cols]\n",
    "    # because rank(AS) may be < k, we use 'sym' instead of 'pos'\n",
    "    Z = scipy.linalg.solve(R_k.T @ R_k, C.T @ A, overwrite_a=True, overwrite_b=True, assume_a='sym')\n",
    "    approx = C @ Z\n",
    "    \n",
    "    return approx, cols, Z"
   ]
  },
  {
   "cell_type": "code",
   "execution_count": 7,
   "metadata": {},
   "outputs": [],
   "source": [
    "def optim_rid(A, k):\n",
    "    o = int(0.2 * k)\n",
    "    return _optim_rid(A, k, oversampling=o)"
   ]
  },
  {
   "cell_type": "markdown",
   "metadata": {},
   "source": [
    "### Optim ID triangular variant"
   ]
  },
  {
   "cell_type": "markdown",
   "metadata": {},
   "source": [
    "Instead of using the Cholesky method through the SciPy positive-definite linear solver, we use back substitution through the SciPy triangular solver. This is the same technique that SciPy ID uses."
   ]
  },
  {
   "cell_type": "code",
   "execution_count": 8,
   "metadata": {},
   "outputs": [],
   "source": [
    "def optim_id_tri(A, k):\n",
    "    \"\"\"Computes a rank-k ID approximation using an optimized least-squares solver.\"\"\"\n",
    "    \n",
    "    # if A is (m,n) with m <= n, then Q is (m,m), R is (m,n), and P is (n,)\n",
    "    _, R, P = scipy.linalg.qr(A, pivoting=True, mode='economic', check_finite=False)\n",
    "    \n",
    "    _, n = A.shape\n",
    "    P_mat = np.identity(n)[:,P]\n",
    "\n",
    "    R_k = R[:k,:k]\n",
    "    cols = P[:k]\n",
    "    \n",
    "    C = A[:,cols]\n",
    "    \n",
    "    try:\n",
    "        Z = scipy.linalg.solve_triangular(R_k, R[:k] @ P_mat.T, overwrite_b=True, check_finite=False)\n",
    "    except np.linalg.LinAlgError:\n",
    "        data_rank = np.linalg.matrix_rank(A)\n",
    "        raise ValueError(f\"Invalid input: rank of data ({data_rank}) is less than requested rank of approximation ({k}).\")\n",
    "\n",
    "    approx = C @ Z\n",
    "\n",
    "    return approx, cols, Z"
   ]
  },
  {
   "cell_type": "markdown",
   "metadata": {},
   "source": [
    "### SciPy ID"
   ]
  },
  {
   "cell_type": "code",
   "execution_count": 9,
   "metadata": {},
   "outputs": [],
   "source": [
    "def scipy_id_main(A, k, randomized):\n",
    "    idx, proj = sli.interp_decomp(A, k, rand=randomized)\n",
    "    cols = idx[:k]\n",
    "    C = A[:,cols]\n",
    "    Z = sli.reconstruct_interp_matrix(idx, proj)\n",
    "    approx = np.dot(C, Z)\n",
    "    return approx, cols, Z\n",
    "\n",
    "def scipy_id(A, k):\n",
    "    return scipy_id_main(A, k, randomized=False)\n",
    "\n",
    "def scipy_random_id(A, k):\n",
    "    return scipy_id_main(A, k, randomized=True)"
   ]
  },
  {
   "cell_type": "markdown",
   "metadata": {},
   "source": [
    "## Initialize data"
   ]
  },
  {
   "cell_type": "code",
   "execution_count": 10,
   "metadata": {},
   "outputs": [],
   "source": [
    "def get_data(string):\n",
    "    m = 784\n",
    "    n = 1000\n",
    "    dims = (m,n)\n",
    "    \n",
    "#     if string == \"low-rank\":\n",
    "#         mat1 = rng.standard_normal(size=(m,100))\n",
    "#         mat2 = rng.standard_normal(size=(100,n))\n",
    "#         data = mat1 @ mat2\n",
    "    if string == \"boolean\":\n",
    "        data = rng.integers(1, size=dims, endpoint=True)\n",
    "        data = data.astype(np.float64, copy=False)\n",
    "    elif string == \"gaussian\":\n",
    "        data = rng.standard_normal(size=dims)\n",
    "    elif string == \"uniform\":\n",
    "        data = rng.uniform(size=dims)\n",
    "    elif string == \"mnist\":\n",
    "        mnist = pd.read_csv('../datasets/mnist/train.csv')\n",
    "        data = mnist[mnist.columns[1:]].values / 255\n",
    "        data = data[:5000]\n",
    "    elif string == \"fashion-mnist\":\n",
    "        mnist = pd.read_csv('../datasets/fashion-mnist/train.csv')\n",
    "        data = mnist[mnist.columns[1:]].values / 255\n",
    "        data = data[:5000]\n",
    "    elif string == \"lfw\":\n",
    "        data = np.empty((187500, 100))\n",
    "        for i,filename in enumerate(glob.iglob('../datasets/lfw/**/*.jpg', recursive = True)):\n",
    "            if i >= 100:\n",
    "                break\n",
    "            im=Image.open(filename)\n",
    "            data[:,i] = np.asarray(im).flatten() / 255\n",
    "            im.close()\n",
    "    elif string == \"sparse1\":\n",
    "        data = pd.read_csv('../datasets/sparse/testsparse.csv').values\n",
    "    elif string == \"sparse2\":\n",
    "        data = np.asarray(mmread('../datasets/sparse/Vehicle_10NN.mtx').todense())\n",
    "    elif string == \"sparse3\": \n",
    "        data = np.asarray(mmread('../datasets/sparse/Spectro_10NN.mtx').todense())\n",
    "    else:\n",
    "        raise ValueError(\"Dataset not found!\")\n",
    "    \n",
    "    \n",
    "    # make matrix 'wide' not 'tall'\n",
    "    if data.shape[0] > data.shape[1]:\n",
    "        data = data.T\n",
    "    \n",
    "    return data"
   ]
  },
  {
   "cell_type": "code",
   "execution_count": 11,
   "metadata": {},
   "outputs": [],
   "source": [
    "data = get_data(\"gaussian\")"
   ]
  },
  {
   "cell_type": "code",
   "execution_count": 12,
   "metadata": {},
   "outputs": [
    {
     "data": {
      "text/plain": [
       "(784, 1000)"
      ]
     },
     "execution_count": 12,
     "metadata": {},
     "output_type": "execute_result"
    }
   ],
   "source": [
    "data.shape"
   ]
  },
  {
   "cell_type": "code",
   "execution_count": 13,
   "metadata": {},
   "outputs": [
    {
     "data": {
      "text/plain": [
       "784"
      ]
     },
     "execution_count": 13,
     "metadata": {},
     "output_type": "execute_result"
    }
   ],
   "source": [
    "np.linalg.matrix_rank(data)"
   ]
  },
  {
   "cell_type": "markdown",
   "metadata": {},
   "source": [
    "## Numerical experiments"
   ]
  },
  {
   "cell_type": "markdown",
   "metadata": {},
   "source": [
    "### setup"
   ]
  },
  {
   "cell_type": "code",
   "execution_count": 14,
   "metadata": {},
   "outputs": [],
   "source": [
    "def calculate_error(A):\n",
    "    return np.linalg.norm(data - A) / np.linalg.norm(data)"
   ]
  },
  {
   "cell_type": "code",
   "execution_count": 15,
   "metadata": {},
   "outputs": [],
   "source": [
    "def check_columns(dcols, acols, name):\n",
    "    if np.allclose(dcols, acols):\n",
    "        return\n",
    "    if np.allclose(dcols, acols, atol=3e-08):\n",
    "        print(f\"{name} columns warning -- max entry-wise error: {np.max(np.abs(dcols - acols))}\")\n",
    "        return\n",
    "    raise ValueError(f\"{name}: columns not preserved!\")"
   ]
  },
  {
   "cell_type": "code",
   "execution_count": 16,
   "metadata": {},
   "outputs": [],
   "source": [
    "def stats(A):\n",
    "    res = np.empty(7)\n",
    "    \n",
    "    res[0] = np.quantile(A, 0.25)\n",
    "    res[1] = np.median(A)\n",
    "    res[2] = np.quantile(A, 0.75)\n",
    "    res[3] = np.mean(A)\n",
    "    res[4] = np.std(A)\n",
    "    res[5] = np.min(A)\n",
    "    res[6] = np.max(A)\n",
    "    \n",
    "    return np.copy(res)"
   ]
  },
  {
   "cell_type": "code",
   "execution_count": 17,
   "metadata": {},
   "outputs": [],
   "source": [
    "k_domain = np.arange(10, 490, step=20)\n",
    "k_len = k_domain.shape[0]"
   ]
  },
  {
   "cell_type": "code",
   "execution_count": 18,
   "metadata": {},
   "outputs": [],
   "source": [
    "ITERATIONS = 10"
   ]
  },
  {
   "cell_type": "markdown",
   "metadata": {},
   "source": [
    "### deterministic methods"
   ]
  },
  {
   "cell_type": "code",
   "execution_count": 19,
   "metadata": {},
   "outputs": [
    {
     "data": {
      "application/vnd.jupyter.widget-view+json": {
       "model_id": "4f5668754971401992ae6f485e531234",
       "version_major": 2,
       "version_minor": 0
      },
      "text/plain": [
       "HBox(children=(FloatProgress(value=0.0, max=24.0), HTML(value='')))"
      ]
     },
     "metadata": {},
     "output_type": "display_data"
    },
    {
     "data": {
      "application/vnd.jupyter.widget-view+json": {
       "model_id": "",
       "version_major": 2,
       "version_minor": 0
      },
      "text/plain": [
       "HBox(children=(FloatProgress(value=0.0, max=4.0), HTML(value='')))"
      ]
     },
     "metadata": {},
     "output_type": "display_data"
    },
    {
     "data": {
      "application/vnd.jupyter.widget-view+json": {
       "model_id": "",
       "version_major": 2,
       "version_minor": 0
      },
      "text/plain": [
       "HBox(children=(FloatProgress(value=0.0, max=4.0), HTML(value='')))"
      ]
     },
     "metadata": {},
     "output_type": "display_data"
    },
    {
     "data": {
      "application/vnd.jupyter.widget-view+json": {
       "model_id": "",
       "version_major": 2,
       "version_minor": 0
      },
      "text/plain": [
       "HBox(children=(FloatProgress(value=0.0, max=4.0), HTML(value='')))"
      ]
     },
     "metadata": {},
     "output_type": "display_data"
    },
    {
     "data": {
      "application/vnd.jupyter.widget-view+json": {
       "model_id": "",
       "version_major": 2,
       "version_minor": 0
      },
      "text/plain": [
       "HBox(children=(FloatProgress(value=0.0, max=4.0), HTML(value='')))"
      ]
     },
     "metadata": {},
     "output_type": "display_data"
    },
    {
     "data": {
      "application/vnd.jupyter.widget-view+json": {
       "model_id": "",
       "version_major": 2,
       "version_minor": 0
      },
      "text/plain": [
       "HBox(children=(FloatProgress(value=0.0, max=4.0), HTML(value='')))"
      ]
     },
     "metadata": {},
     "output_type": "display_data"
    },
    {
     "data": {
      "application/vnd.jupyter.widget-view+json": {
       "model_id": "",
       "version_major": 2,
       "version_minor": 0
      },
      "text/plain": [
       "HBox(children=(FloatProgress(value=0.0, max=4.0), HTML(value='')))"
      ]
     },
     "metadata": {},
     "output_type": "display_data"
    },
    {
     "data": {
      "application/vnd.jupyter.widget-view+json": {
       "model_id": "",
       "version_major": 2,
       "version_minor": 0
      },
      "text/plain": [
       "HBox(children=(FloatProgress(value=0.0, max=4.0), HTML(value='')))"
      ]
     },
     "metadata": {},
     "output_type": "display_data"
    },
    {
     "data": {
      "application/vnd.jupyter.widget-view+json": {
       "model_id": "",
       "version_major": 2,
       "version_minor": 0
      },
      "text/plain": [
       "HBox(children=(FloatProgress(value=0.0, max=4.0), HTML(value='')))"
      ]
     },
     "metadata": {},
     "output_type": "display_data"
    },
    {
     "data": {
      "application/vnd.jupyter.widget-view+json": {
       "model_id": "",
       "version_major": 2,
       "version_minor": 0
      },
      "text/plain": [
       "HBox(children=(FloatProgress(value=0.0, max=4.0), HTML(value='')))"
      ]
     },
     "metadata": {},
     "output_type": "display_data"
    },
    {
     "data": {
      "application/vnd.jupyter.widget-view+json": {
       "model_id": "",
       "version_major": 2,
       "version_minor": 0
      },
      "text/plain": [
       "HBox(children=(FloatProgress(value=0.0, max=4.0), HTML(value='')))"
      ]
     },
     "metadata": {},
     "output_type": "display_data"
    },
    {
     "data": {
      "application/vnd.jupyter.widget-view+json": {
       "model_id": "",
       "version_major": 2,
       "version_minor": 0
      },
      "text/plain": [
       "HBox(children=(FloatProgress(value=0.0, max=4.0), HTML(value='')))"
      ]
     },
     "metadata": {},
     "output_type": "display_data"
    },
    {
     "data": {
      "application/vnd.jupyter.widget-view+json": {
       "model_id": "",
       "version_major": 2,
       "version_minor": 0
      },
      "text/plain": [
       "HBox(children=(FloatProgress(value=0.0, max=4.0), HTML(value='')))"
      ]
     },
     "metadata": {},
     "output_type": "display_data"
    },
    {
     "data": {
      "application/vnd.jupyter.widget-view+json": {
       "model_id": "",
       "version_major": 2,
       "version_minor": 0
      },
      "text/plain": [
       "HBox(children=(FloatProgress(value=0.0, max=4.0), HTML(value='')))"
      ]
     },
     "metadata": {},
     "output_type": "display_data"
    },
    {
     "data": {
      "application/vnd.jupyter.widget-view+json": {
       "model_id": "",
       "version_major": 2,
       "version_minor": 0
      },
      "text/plain": [
       "HBox(children=(FloatProgress(value=0.0, max=4.0), HTML(value='')))"
      ]
     },
     "metadata": {},
     "output_type": "display_data"
    },
    {
     "data": {
      "application/vnd.jupyter.widget-view+json": {
       "model_id": "",
       "version_major": 2,
       "version_minor": 0
      },
      "text/plain": [
       "HBox(children=(FloatProgress(value=0.0, max=4.0), HTML(value='')))"
      ]
     },
     "metadata": {},
     "output_type": "display_data"
    },
    {
     "data": {
      "application/vnd.jupyter.widget-view+json": {
       "model_id": "",
       "version_major": 2,
       "version_minor": 0
      },
      "text/plain": [
       "HBox(children=(FloatProgress(value=0.0, max=4.0), HTML(value='')))"
      ]
     },
     "metadata": {},
     "output_type": "display_data"
    },
    {
     "data": {
      "application/vnd.jupyter.widget-view+json": {
       "model_id": "",
       "version_major": 2,
       "version_minor": 0
      },
      "text/plain": [
       "HBox(children=(FloatProgress(value=0.0, max=4.0), HTML(value='')))"
      ]
     },
     "metadata": {},
     "output_type": "display_data"
    },
    {
     "data": {
      "application/vnd.jupyter.widget-view+json": {
       "model_id": "",
       "version_major": 2,
       "version_minor": 0
      },
      "text/plain": [
       "HBox(children=(FloatProgress(value=0.0, max=4.0), HTML(value='')))"
      ]
     },
     "metadata": {},
     "output_type": "display_data"
    },
    {
     "data": {
      "application/vnd.jupyter.widget-view+json": {
       "model_id": "",
       "version_major": 2,
       "version_minor": 0
      },
      "text/plain": [
       "HBox(children=(FloatProgress(value=0.0, max=4.0), HTML(value='')))"
      ]
     },
     "metadata": {},
     "output_type": "display_data"
    },
    {
     "data": {
      "application/vnd.jupyter.widget-view+json": {
       "model_id": "",
       "version_major": 2,
       "version_minor": 0
      },
      "text/plain": [
       "HBox(children=(FloatProgress(value=0.0, max=4.0), HTML(value='')))"
      ]
     },
     "metadata": {},
     "output_type": "display_data"
    },
    {
     "data": {
      "application/vnd.jupyter.widget-view+json": {
       "model_id": "",
       "version_major": 2,
       "version_minor": 0
      },
      "text/plain": [
       "HBox(children=(FloatProgress(value=0.0, max=4.0), HTML(value='')))"
      ]
     },
     "metadata": {},
     "output_type": "display_data"
    },
    {
     "data": {
      "application/vnd.jupyter.widget-view+json": {
       "model_id": "",
       "version_major": 2,
       "version_minor": 0
      },
      "text/plain": [
       "HBox(children=(FloatProgress(value=0.0, max=4.0), HTML(value='')))"
      ]
     },
     "metadata": {},
     "output_type": "display_data"
    },
    {
     "data": {
      "application/vnd.jupyter.widget-view+json": {
       "model_id": "",
       "version_major": 2,
       "version_minor": 0
      },
      "text/plain": [
       "HBox(children=(FloatProgress(value=0.0, max=4.0), HTML(value='')))"
      ]
     },
     "metadata": {},
     "output_type": "display_data"
    },
    {
     "data": {
      "application/vnd.jupyter.widget-view+json": {
       "model_id": "",
       "version_major": 2,
       "version_minor": 0
      },
      "text/plain": [
       "HBox(children=(FloatProgress(value=0.0, max=4.0), HTML(value='')))"
      ]
     },
     "metadata": {},
     "output_type": "display_data"
    },
    {
     "name": "stdout",
     "output_type": "stream",
     "text": [
      "\n"
     ]
    }
   ],
   "source": [
    "DET_ID_ALGS = [scipy_id, optim_id, optim_id_tri]\n",
    "DET_ALGS = [svd] + DET_ID_ALGS\n",
    "num_det_algs = len(DET_ALGS)\n",
    "\n",
    "DET_ERRORS = np.empty((num_det_algs, k_len))\n",
    "DET_TIMES = np.empty((num_det_algs, k_len))\n",
    "DET_MAX_ENTRY = np.empty((num_det_algs-1, k_len))\n",
    "\n",
    "\n",
    "for i, k in enumerate(tqdm(k_domain)):\n",
    "    for h, alg in enumerate(tqdm(DET_ALGS, leave=False)):\n",
    "        start = perf_counter()\n",
    "        approx, cols, Z = alg(data, k)\n",
    "        end = perf_counter()\n",
    "        \n",
    "        DET_TIMES[h,i] = end - start\n",
    "        DET_ERRORS[h,i] = calculate_error(approx)\n",
    "        \n",
    "        if alg == svd:\n",
    "            continue\n",
    "        \n",
    "        check_columns(data[:,cols], approx[:,cols], alg.__name__)\n",
    "        DET_MAX_ENTRY[h-1,i] = np.max(np.abs(Z))"
   ]
  },
  {
   "cell_type": "markdown",
   "metadata": {},
   "source": [
    "### randomized methods"
   ]
  },
  {
   "cell_type": "code",
   "execution_count": 20,
   "metadata": {
    "scrolled": true
   },
   "outputs": [
    {
     "data": {
      "application/vnd.jupyter.widget-view+json": {
       "model_id": "afdc44324ebd48559eb3191b5f054b70",
       "version_major": 2,
       "version_minor": 0
      },
      "text/plain": [
       "HBox(children=(FloatProgress(value=0.0, max=24.0), HTML(value='')))"
      ]
     },
     "metadata": {},
     "output_type": "display_data"
    },
    {
     "data": {
      "application/vnd.jupyter.widget-view+json": {
       "model_id": "",
       "version_major": 2,
       "version_minor": 0
      },
      "text/plain": [
       "HBox(children=(FloatProgress(value=0.0, max=10.0), HTML(value='')))"
      ]
     },
     "metadata": {},
     "output_type": "display_data"
    },
    {
     "data": {
      "application/vnd.jupyter.widget-view+json": {
       "model_id": "",
       "version_major": 2,
       "version_minor": 0
      },
      "text/plain": [
       "HBox(children=(FloatProgress(value=0.0, max=10.0), HTML(value='')))"
      ]
     },
     "metadata": {},
     "output_type": "display_data"
    },
    {
     "data": {
      "application/vnd.jupyter.widget-view+json": {
       "model_id": "",
       "version_major": 2,
       "version_minor": 0
      },
      "text/plain": [
       "HBox(children=(FloatProgress(value=0.0, max=10.0), HTML(value='')))"
      ]
     },
     "metadata": {},
     "output_type": "display_data"
    },
    {
     "data": {
      "application/vnd.jupyter.widget-view+json": {
       "model_id": "",
       "version_major": 2,
       "version_minor": 0
      },
      "text/plain": [
       "HBox(children=(FloatProgress(value=0.0, max=10.0), HTML(value='')))"
      ]
     },
     "metadata": {},
     "output_type": "display_data"
    },
    {
     "data": {
      "application/vnd.jupyter.widget-view+json": {
       "model_id": "",
       "version_major": 2,
       "version_minor": 0
      },
      "text/plain": [
       "HBox(children=(FloatProgress(value=0.0, max=10.0), HTML(value='')))"
      ]
     },
     "metadata": {},
     "output_type": "display_data"
    },
    {
     "data": {
      "application/vnd.jupyter.widget-view+json": {
       "model_id": "",
       "version_major": 2,
       "version_minor": 0
      },
      "text/plain": [
       "HBox(children=(FloatProgress(value=0.0, max=10.0), HTML(value='')))"
      ]
     },
     "metadata": {},
     "output_type": "display_data"
    },
    {
     "data": {
      "application/vnd.jupyter.widget-view+json": {
       "model_id": "",
       "version_major": 2,
       "version_minor": 0
      },
      "text/plain": [
       "HBox(children=(FloatProgress(value=0.0, max=10.0), HTML(value='')))"
      ]
     },
     "metadata": {},
     "output_type": "display_data"
    },
    {
     "data": {
      "application/vnd.jupyter.widget-view+json": {
       "model_id": "",
       "version_major": 2,
       "version_minor": 0
      },
      "text/plain": [
       "HBox(children=(FloatProgress(value=0.0, max=10.0), HTML(value='')))"
      ]
     },
     "metadata": {},
     "output_type": "display_data"
    },
    {
     "data": {
      "application/vnd.jupyter.widget-view+json": {
       "model_id": "",
       "version_major": 2,
       "version_minor": 0
      },
      "text/plain": [
       "HBox(children=(FloatProgress(value=0.0, max=10.0), HTML(value='')))"
      ]
     },
     "metadata": {},
     "output_type": "display_data"
    },
    {
     "data": {
      "application/vnd.jupyter.widget-view+json": {
       "model_id": "",
       "version_major": 2,
       "version_minor": 0
      },
      "text/plain": [
       "HBox(children=(FloatProgress(value=0.0, max=10.0), HTML(value='')))"
      ]
     },
     "metadata": {},
     "output_type": "display_data"
    },
    {
     "data": {
      "application/vnd.jupyter.widget-view+json": {
       "model_id": "",
       "version_major": 2,
       "version_minor": 0
      },
      "text/plain": [
       "HBox(children=(FloatProgress(value=0.0, max=10.0), HTML(value='')))"
      ]
     },
     "metadata": {},
     "output_type": "display_data"
    },
    {
     "data": {
      "application/vnd.jupyter.widget-view+json": {
       "model_id": "",
       "version_major": 2,
       "version_minor": 0
      },
      "text/plain": [
       "HBox(children=(FloatProgress(value=0.0, max=10.0), HTML(value='')))"
      ]
     },
     "metadata": {},
     "output_type": "display_data"
    },
    {
     "data": {
      "application/vnd.jupyter.widget-view+json": {
       "model_id": "",
       "version_major": 2,
       "version_minor": 0
      },
      "text/plain": [
       "HBox(children=(FloatProgress(value=0.0, max=10.0), HTML(value='')))"
      ]
     },
     "metadata": {},
     "output_type": "display_data"
    },
    {
     "data": {
      "application/vnd.jupyter.widget-view+json": {
       "model_id": "",
       "version_major": 2,
       "version_minor": 0
      },
      "text/plain": [
       "HBox(children=(FloatProgress(value=0.0, max=10.0), HTML(value='')))"
      ]
     },
     "metadata": {},
     "output_type": "display_data"
    },
    {
     "data": {
      "application/vnd.jupyter.widget-view+json": {
       "model_id": "",
       "version_major": 2,
       "version_minor": 0
      },
      "text/plain": [
       "HBox(children=(FloatProgress(value=0.0, max=10.0), HTML(value='')))"
      ]
     },
     "metadata": {},
     "output_type": "display_data"
    },
    {
     "data": {
      "application/vnd.jupyter.widget-view+json": {
       "model_id": "",
       "version_major": 2,
       "version_minor": 0
      },
      "text/plain": [
       "HBox(children=(FloatProgress(value=0.0, max=10.0), HTML(value='')))"
      ]
     },
     "metadata": {},
     "output_type": "display_data"
    },
    {
     "data": {
      "application/vnd.jupyter.widget-view+json": {
       "model_id": "",
       "version_major": 2,
       "version_minor": 0
      },
      "text/plain": [
       "HBox(children=(FloatProgress(value=0.0, max=10.0), HTML(value='')))"
      ]
     },
     "metadata": {},
     "output_type": "display_data"
    },
    {
     "data": {
      "application/vnd.jupyter.widget-view+json": {
       "model_id": "",
       "version_major": 2,
       "version_minor": 0
      },
      "text/plain": [
       "HBox(children=(FloatProgress(value=0.0, max=10.0), HTML(value='')))"
      ]
     },
     "metadata": {},
     "output_type": "display_data"
    },
    {
     "data": {
      "application/vnd.jupyter.widget-view+json": {
       "model_id": "",
       "version_major": 2,
       "version_minor": 0
      },
      "text/plain": [
       "HBox(children=(FloatProgress(value=0.0, max=10.0), HTML(value='')))"
      ]
     },
     "metadata": {},
     "output_type": "display_data"
    },
    {
     "data": {
      "application/vnd.jupyter.widget-view+json": {
       "model_id": "",
       "version_major": 2,
       "version_minor": 0
      },
      "text/plain": [
       "HBox(children=(FloatProgress(value=0.0, max=10.0), HTML(value='')))"
      ]
     },
     "metadata": {},
     "output_type": "display_data"
    },
    {
     "data": {
      "application/vnd.jupyter.widget-view+json": {
       "model_id": "",
       "version_major": 2,
       "version_minor": 0
      },
      "text/plain": [
       "HBox(children=(FloatProgress(value=0.0, max=10.0), HTML(value='')))"
      ]
     },
     "metadata": {},
     "output_type": "display_data"
    },
    {
     "data": {
      "application/vnd.jupyter.widget-view+json": {
       "model_id": "",
       "version_major": 2,
       "version_minor": 0
      },
      "text/plain": [
       "HBox(children=(FloatProgress(value=0.0, max=10.0), HTML(value='')))"
      ]
     },
     "metadata": {},
     "output_type": "display_data"
    },
    {
     "data": {
      "application/vnd.jupyter.widget-view+json": {
       "model_id": "",
       "version_major": 2,
       "version_minor": 0
      },
      "text/plain": [
       "HBox(children=(FloatProgress(value=0.0, max=10.0), HTML(value='')))"
      ]
     },
     "metadata": {},
     "output_type": "display_data"
    },
    {
     "data": {
      "application/vnd.jupyter.widget-view+json": {
       "model_id": "",
       "version_major": 2,
       "version_minor": 0
      },
      "text/plain": [
       "HBox(children=(FloatProgress(value=0.0, max=10.0), HTML(value='')))"
      ]
     },
     "metadata": {},
     "output_type": "display_data"
    },
    {
     "name": "stdout",
     "output_type": "stream",
     "text": [
      "\n"
     ]
    }
   ],
   "source": [
    "RAND_ALGS = [scipy_random_id, optim_rid]\n",
    "num_rand_algs = len(RAND_ALGS)\n",
    "\n",
    "RAND_ERRORS = np.empty((num_rand_algs, 7, k_len))\n",
    "RAND_TIMES = np.empty((num_rand_algs, 7, k_len))\n",
    "RAND_MAX_ENTRY = np.empty((num_rand_algs, 7, k_len))\n",
    "\n",
    "\n",
    "for i, k in enumerate(tqdm(k_domain)):\n",
    "    errors = np.empty((num_rand_algs, ITERATIONS))\n",
    "    times = np.empty((num_rand_algs, ITERATIONS))\n",
    "    max_entry = np.empty((num_rand_algs, ITERATIONS))\n",
    "\n",
    "    for j in trange(ITERATIONS, leave=False):\n",
    "        for h, alg in enumerate(RAND_ALGS):\n",
    "            start = perf_counter()\n",
    "            approx, cols, Z = alg(data, k)\n",
    "            end = perf_counter()\n",
    "            \n",
    "            times[h,j] = end - start\n",
    "            errors[h,j] = calculate_error(approx)\n",
    "            check_columns(data[:,cols], approx[:,cols], alg.__name__)\n",
    "            max_entry[h,j] = np.max(np.abs(Z))\n",
    "        \n",
    "    for h in range(num_rand_algs):\n",
    "        RAND_ERRORS[h,:,i] = stats(errors[h])\n",
    "        RAND_TIMES[h,:,i] = stats(times[h])\n",
    "        RAND_MAX_ENTRY[h,:,i] = stats(max_entry[h])"
   ]
  },
  {
   "cell_type": "markdown",
   "metadata": {},
   "source": [
    "## Display results"
   ]
  },
  {
   "cell_type": "code",
   "execution_count": 25,
   "metadata": {},
   "outputs": [],
   "source": [
    "plt.rcParams.update({'font.size': 18})"
   ]
  },
  {
   "cell_type": "code",
   "execution_count": 26,
   "metadata": {
    "scrolled": false
   },
   "outputs": [
    {
     "data": {
      "image/png": "[encoded data removed]",
      "text/plain": [
       "<Figure size 1440x1440 with 3 Axes>"
      ]
     },
     "metadata": {},
     "output_type": "display_data"
    }
   ],
   "source": [
    "fig = plt.figure(figsize=(20,20))\n",
    "fig.set_facecolor('#FFF')  # '#EEE' for grey\n",
    "gs = fig.add_gridspec(2, 2)\n",
    "ax1 = fig.add_subplot(gs[0,0])\n",
    "ax2 = fig.add_subplot(gs[0,1])\n",
    "ax3 = fig.add_subplot(gs[1,:])\n",
    "axs = [ax1, ax2, ax3]\n",
    "\n",
    "\n",
    "\n",
    "# ERROR GRAPH\n",
    "idx = 0\n",
    "for h, alg in enumerate(DET_ALGS):\n",
    "    axs[idx].plot(k_domain, DET_ERRORS[h], label=alg.__name__)\n",
    "for h, alg in enumerate(RAND_ALGS):\n",
    "    axs[idx].plot(k_domain, RAND_ERRORS[h,3], label=alg.__name__)\n",
    "\n",
    "axs[idx].set_xlabel('k')\n",
    "axs[idx].set_ylabel('Relative Error')\n",
    "axs[idx].legend(loc='best')\n",
    "axs[idx].set_title('Error vs. Rank')\n",
    "\n",
    "\n",
    "# TIME GRAPH\n",
    "idx = 1\n",
    "for h, alg in enumerate(DET_ALGS):\n",
    "    axs[idx].plot(k_domain, DET_TIMES[h], label=alg.__name__)\n",
    "for h, alg in enumerate(RAND_ALGS):\n",
    "    axs[idx].plot(k_domain, RAND_TIMES[h,3], label=alg.__name__)\n",
    "\n",
    "axs[idx].set_xlabel('k')\n",
    "axs[idx].set_ylabel('Time')\n",
    "# axs[idx].set_yscale('log')\n",
    "axs[idx].legend(loc='best')\n",
    "axs[idx].set_title('Time vs. Rank')\n",
    "\n",
    "\n",
    "# MAX ENTRY GRAPH\n",
    "idx = 2\n",
    "axs[idx].plot([], [])  # null plot to advance color cycler to stay in sync with previous plots\n",
    "for h, alg in enumerate(DET_ID_ALGS):\n",
    "    axs[idx].plot(k_domain, DET_MAX_ENTRY[h], label=alg.__name__)\n",
    "for h, alg in enumerate(RAND_ALGS):\n",
    "    axs[idx].plot(k_domain, RAND_MAX_ENTRY[h,3], label=alg.__name__)\n",
    "\n",
    "axs[idx].set_xlabel('k')\n",
    "axs[idx].set_ylabel('Max Entry')\n",
    "axs[idx].set_yscale('log')\n",
    "axs[idx].legend(loc='best')\n",
    "axs[idx].set_title('Max Entry vs. Rank');"
   ]
  },
  {
   "cell_type": "code",
   "execution_count": null,
   "metadata": {},
   "outputs": [],
   "source": []
  }
 ],
 "metadata": {
  "kernelspec": {
   "display_name": "Python [conda env:icerm]",
   "language": "python",
   "name": "conda-env-icerm-py"
  },
  "language_info": {
   "codemirror_mode": {
    "name": "ipython",
    "version": 3
   },
   "file_extension": ".py",
   "mimetype": "text/x-python",
   "name": "python",
   "nbconvert_exporter": "python",
   "pygments_lexer": "ipython3",
   "version": "3.8.3"
  }
 },
 "nbformat": 4,
 "nbformat_minor": 2
}
