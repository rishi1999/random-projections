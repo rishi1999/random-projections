{
 "cells": [
  {
   "cell_type": "code",
   "execution_count": 1,
   "metadata": {},
   "outputs": [],
   "source": [
    "import numpy as np\n",
    "from sklearn.decomposition import KernelPCA\n",
    "import matplotlib.pyplot as plt\n",
    "from time import perf_counter\n",
    "import pandas as pd\n",
    "from mpl_toolkits.mplot3d import Axes3D\n",
    "from tqdm import tqdm, trange\n",
    "# from tqdm.notebook import tqdm\n",
    "from sklearn.model_selection import train_test_split\n",
    "from sklearn.svm import SVC\n",
    "import torch\n",
    "\n",
    "%matplotlib inline"
   ]
  },
  {
   "cell_type": "markdown",
   "metadata": {},
   "source": [
    "## Computation of Randomized Fourier features Kernels in Parallel\n",
    "\n",
    "First, let's read in MNIST Data to use as an example, and truncate to the first $1000$ samples."
   ]
  },
  {
   "cell_type": "code",
   "execution_count": 2,
   "metadata": {},
   "outputs": [],
   "source": [
    "mnist = pd.read_csv('../datasets/mnist/train.csv')\n",
    "\n",
    "full_X = mnist[mnist.columns[1:]].values / 255\n",
    "full_y = mnist.label.values\n",
    "\n",
    "X = full_X[:1000]\n",
    "y = full_y[:1000]\n",
    "\n",
    "n,d = X.shape\n",
    "\n",
    "X_train, X_test, y_train, y_test = train_test_split(X, y, test_size=0.2, random_state=15)"
   ]
  },
  {
   "cell_type": "markdown",
   "metadata": {},
   "source": [
    "### Kernel Generation Function\n",
    "\n",
    "We use random Fourier features to emulate a Gaussian kernel."
   ]
  },
  {
   "cell_type": "code",
   "execution_count": 3,
   "metadata": {},
   "outputs": [],
   "source": [
    "def generate_kernel(m=220, s=1/d):\n",
    "    b = np.random.uniform(low=0, high=2*np.pi, size=(1,m))\n",
    "    W = np.random.multivariate_normal(mean=np.zeros(d), cov=2*s*np.eye(d), size=m) # m x d\n",
    "    def ker(x, y):\n",
    "        z1 = np.cos(x @ W.T + b)\n",
    "        z2 = np.cos(y @ W.T + b)\n",
    "        return z1 @ z2.T / m\n",
    "    return ker"
   ]
  },
  {
   "cell_type": "code",
   "execution_count": 4,
   "metadata": {},
   "outputs": [],
   "source": [
    "parameters = (1/784) * np.arange(0.1,10,0.1)#range(0.1,0.3,0.1)\n",
    "n_param = parameters.shape[0]\n",
    "m = 220"
   ]
  },
  {
   "cell_type": "markdown",
   "metadata": {},
   "source": [
    "## Testing parameters using CV: Deterministic Kernel, Series computation\n",
    "\n",
    "The goal of these experiments is to test a range of parameters values and compare the time it takes for various methods to do that. First, we test each parameter value in series using a deterministic kernel with `sklearn.model_selection.GridSearchCV`."
   ]
  },
  {
   "cell_type": "code",
   "execution_count": 5,
   "metadata": {
    "scrolled": false
   },
   "outputs": [
    {
     "name": "stderr",
     "output_type": "stream",
     "text": [
      "C:\\Users\\Sean\\Anaconda3\\lib\\site-packages\\sklearn\\model_selection\\_search.py:814: DeprecationWarning: The default of the `iid` parameter will change from True to False in version 0.22 and will be removed in 0.24. This will change numeric results when test-set sizes are unequal.\n",
      "  DeprecationWarning)\n"
     ]
    },
    {
     "name": "stdout",
     "output_type": "stream",
     "text": [
      "133.7277917\n"
     ]
    },
    {
     "data": {
      "text/plain": [
       "Text(0, 0.5, 'Accuracy')"
      ]
     },
     "execution_count": 5,
     "metadata": {},
     "output_type": "execute_result"
    },
    {
     "data": {
      "image/png": "[encoded data removed]",
      "text/plain": [
       "<Figure size 432x288 with 1 Axes>"
      ]
     },
     "metadata": {
      "needs_background": "light"
     },
     "output_type": "display_data"
    }
   ],
   "source": [
    "from sklearn.model_selection import GridSearchCV\n",
    "\n",
    "start = perf_counter()\n",
    "\n",
    "params = {'gamma': parameters}\n",
    "svc = SVC(kernel='rbf')\n",
    "clf = GridSearchCV(svc, params, cv=3)\n",
    "clf.fit(X_train, y_train)\n",
    "\n",
    "print(perf_counter() - start)\n",
    "\n",
    "plt.plot(parameters, clf.cv_results_['mean_test_score'])\n",
    "plt.xlabel('$\\gamma$ value')\n",
    "plt.ylabel('Accuracy')"
   ]
  },
  {
   "cell_type": "markdown",
   "metadata": {},
   "source": [
    "## Testing parameters using CV: random Fourier features, Parallel computation\n",
    "\n",
    "The random Fourier features method has another upshot: since the kernel matrix is approximated by\n",
    "$$\\hat{K} = \\frac{1}{m}z(X)z(X)^T\\,,$$\n",
    "we are effectively approximating the kernel by matrix multiplication. Thus, we may parallelize this code, using _batch matrix multiplication_. We used `torch.bmm` to perform this."
   ]
  },
  {
   "cell_type": "code",
   "execution_count": 6,
   "metadata": {},
   "outputs": [
    {
     "name": "stdout",
     "output_type": "stream",
     "text": [
      "37.825689100000005\n"
     ]
    },
    {
     "data": {
      "text/plain": [
       "Text(0, 0.5, 'Accuracy')"
      ]
     },
     "execution_count": 6,
     "metadata": {},
     "output_type": "execute_result"
    },
    {
     "data": {
      "image/png": "[encoded data removed]",
      "text/plain": [
       "<Figure size 432x288 with 1 Axes>"
      ]
     },
     "metadata": {
      "needs_background": "light"
     },
     "output_type": "display_data"
    }
   ],
   "source": [
    "from sklearn.model_selection import StratifiedKFold\n",
    "\n",
    "\n",
    "# X_train is train_batch x d\n",
    "# X_test is test_batch x d\n",
    "\n",
    "n_cv = 3\n",
    "\n",
    "scores = np.empty((n_cv,n_param))\n",
    "\n",
    "start = perf_counter()\n",
    "\n",
    "skf = StratifiedKFold(n_splits = n_cv)\n",
    "for i,(train_index, test_index) in enumerate(skf.split(X,y)):\n",
    "    X_tr, X_te = X[train_index], X[test_index]\n",
    "    y_tr, y_te = y[train_index], y[test_index]\n",
    "    \n",
    "    # m x d x n_param\n",
    "    W = np.random.multivariate_normal(mean=np.zeros(d), cov=2*np.eye(d), size=(n_param, m)).transpose(1,2,0) * np.sqrt(parameters)\n",
    "\n",
    "    # n_param x m x 1\n",
    "    b = np.random.uniform(low=0, high=2*np.pi, size=(n_param,m,1))\n",
    "\n",
    "    # Wtranspose below is n_param x m x d, X_train.T is d x train_batch, their product is n_param x m x train_batch\n",
    "\n",
    "    placeholder = np.cos(np.dot(W.transpose(2,0,1), X_tr.T) + b) # n_param x m x train_batch\n",
    "\n",
    "    z11 = torch.from_numpy(placeholder.transpose(0,2,1)) # n_param x train_batch x m\n",
    "    z2 = torch.from_numpy(placeholder.transpose(0,1,2)) # n_param x m x train_batch\n",
    "\n",
    "    z12 = torch.from_numpy(np.cos(np.dot(W.transpose(2,0,1), X_te.T) + b).transpose(0,2,1)) # n_param x test_batch x m\n",
    "\n",
    "    out1 = (1/m) * np.asarray(torch.bmm(z11, z2)) # n_param x train_batch x train_batch\n",
    "    out2 = (1/m) * np.asarray(torch.bmm(z12, z2)) # n_param x test_batch x train_batch\n",
    "\n",
    "    for j in range(n_param):\n",
    "        svm = SVC(kernel='precomputed')\n",
    "        svm.fit(out1[j], y_tr)\n",
    "        scores[i,j] = svm.score(out2[j], y_te)\n",
    "\n",
    "totaltime = perf_counter() - start\n",
    "\n",
    "print(totaltime)\n",
    "plt.plot(parameters, np.mean(scores, axis=0))\n",
    "plt.xlabel('$\\gamma$ value')\n",
    "plt.ylabel('Accuracy')"
   ]
  },
  {
   "cell_type": "code",
   "execution_count": 7,
   "metadata": {},
   "outputs": [],
   "source": [
    "randmeans = np.mean(scores,axis=0)\n",
    "detmeans = clf.cv_results_['mean_test_score']"
   ]
  },
  {
   "cell_type": "code",
   "execution_count": 8,
   "metadata": {},
   "outputs": [
    {
     "data": {
      "text/plain": [
       "0.08716267658268868"
      ]
     },
     "execution_count": 8,
     "metadata": {},
     "output_type": "execute_result"
    }
   ],
   "source": [
    "#Error of results\n",
    "np.linalg.norm(randmeans-detmeans) / np.linalg.norm(detmeans)"
   ]
  },
  {
   "cell_type": "code",
   "execution_count": 9,
   "metadata": {},
   "outputs": [
    {
     "name": "stdout",
     "output_type": "stream",
     "text": [
      "Best random param value was the 1th best det param value\n",
      "Difference in accuracy between best random and best det is 0.04310628874450617\n"
     ]
    }
   ],
   "source": [
    "#Check where random is maximized, and identify the order of that index in detmeans\n",
    "\n",
    "random_max_idx = np.argmax(randmeans)\n",
    "\n",
    "det_val_for_best_rand = detmeans[random_max_idx]\n",
    "\n",
    "sorted_unique_det = np.unique(np.sort(detmeans))[::-1]\n",
    "\n",
    "rank = np.where(sorted_unique_det == det_val_for_best_rand)[0][0]\n",
    "\n",
    "print(f'Best random param value was the {rank}th best det param value')\n",
    "print(f'Difference in accuracy between best random and best det is {np.max(detmeans)-np.max(randmeans)}')"
   ]
  },
  {
   "cell_type": "markdown",
   "metadata": {},
   "source": [
    "## Testing parameters using CV: random Fourier features, Series computation\n",
    "\n",
    "We compare our previous results to computing the random Fourier features kernels in series, and we note an almost $100\\%$ speedup using the parallel method-- this may be attributed to the fact that the machine on which this code was ran had $2$ cores."
   ]
  },
  {
   "cell_type": "code",
   "execution_count": 10,
   "metadata": {},
   "outputs": [
    {
     "name": "stdout",
     "output_type": "stream",
     "text": [
      "94.22474989999998\n"
     ]
    },
    {
     "data": {
      "text/plain": [
       "Text(0, 0.5, 'Accuracy')"
      ]
     },
     "execution_count": 10,
     "metadata": {},
     "output_type": "execute_result"
    },
    {
     "data": {
      "image/png": "[encoded data removed]",
      "text/plain": [
       "<Figure size 432x288 with 1 Axes>"
      ]
     },
     "metadata": {
      "needs_background": "light"
     },
     "output_type": "display_data"
    }
   ],
   "source": [
    "# X_train is train_batch x d\n",
    "# X_test is test_batch x d\n",
    "\n",
    "n_cv = 3\n",
    "\n",
    "scores_cv_rnd_np = np.empty((n_cv,n_param))\n",
    "\n",
    "start = perf_counter()\n",
    "\n",
    "skf = StratifiedKFold(n_splits = n_cv)\n",
    "for i,(train_index, test_index) in enumerate(skf.split(X,y)):\n",
    "    X_tr, X_te = X[train_index], X[test_index]\n",
    "    y_tr, y_te = y[train_index], y[test_index]\n",
    "    \n",
    "    for j,val in enumerate(parameters):\n",
    "        svm = SVC(kernel=generate_kernel(s=val))\n",
    "        svm.fit(X_tr, y_tr)\n",
    "        scores_cv_rnd_np[i,j] = svm.score(X_te, y_te)\n",
    "\n",
    "\n",
    "totaltime = perf_counter() - start\n",
    "\n",
    "print(totaltime)\n",
    "plt.plot(parameters, np.mean(scores_cv_rnd_np, axis=0))\n",
    "plt.xlabel('$\\gamma$ value')\n",
    "plt.ylabel('Accuracy')"
   ]
  }
 ],
 "metadata": {
  "kernelspec": {
   "display_name": "Python 3",
   "language": "python",
   "name": "python3"
  },
  "language_info": {
   "codemirror_mode": {
    "name": "ipython",
    "version": 3
   },
   "file_extension": ".py",
   "mimetype": "text/x-python",
   "name": "python",
   "nbconvert_exporter": "python",
   "pygments_lexer": "ipython3",
   "version": "3.7.4"
  }
 },
 "nbformat": 4,
 "nbformat_minor": 2
}
