{
 "cells": [
  {
   "cell_type": "code",
   "execution_count": 17,
   "metadata": {},
   "outputs": [],
   "source": [
    "import numpy as np\n",
    "from numpy import random\n",
    "import math\n",
    "from matplotlib import pyplot as plt"
   ]
  },
  {
   "cell_type": "markdown",
   "metadata": {},
   "source": [
    "# Johnson-Lindenstrauss Lemma\n",
    "\n",
    "The Johnson-Lindenstrauss Lemma describes the existence of a map from a higher dimensional space $\\mathbb{R}^d$ into a lower dimensional space $\\mathbb{R}^k$ that preserves pairwise distances between the $n$ points up to an error tolerance $0<\\varepsilon<1$, with $k$ on the order of $\\varepsilon^{-2}\\log n$. \n",
    "\n",
    "In applications with which we are concerned, the data (collection of points) can be viewed as a matrix $A\\in \\mathcal{M}_{m\\times n}(\\mathbb{R})$, with each row representing a point in $\\mathbb{R}^n$, and the map in question may be taken to be a projection $P\\in \\mathcal{M}_{n\\times k}(\\mathbb{R})$.\n",
    "\n",
    "#### Lemma (Johnson-Lindenstrauss)\n",
    "\n",
    "Let $\\{x_1,...,x_n\\}$ be a collection of data points in $\\mathbb{R}^d$. Let $k\\in\\mathbb{N}$ such that \n",
    "$$\n",
    "k > C\\cdot \\log n \\quad\\quad \\left(C= \\frac{24}{3\\varepsilon^2 - 2\\varepsilon^3}\\right)\n",
    "$$\n",
    "Then there exists a linear map $f$ (projection) such that for any $x_i,x_j\\in X$,\n",
    "$$\n",
    "(1-\\varepsilon)\\,\\|x_i-x_j\\|_2^2 \\leq \\|f(x_i)-f(x_j)\\|_2^2 \\leq (1+\\varepsilon)\\,\\|x_i-x_j\\|_2^2\n",
    "$$"
   ]
  },
  {
   "cell_type": "markdown",
   "metadata": {},
   "source": [
    "We will not provide the full proof here, but part of a proof involves the following lemma:\n",
    "\n",
    "Let $u\\in \\mathbb{R}^d$ be fixed, and let $R$ be a random matrix with $R_{ij} \\sim N(0,1)$. Define $v=\\frac{1}{\\sqrt{k}}Ru$, such that $v\\in\\mathbb{R}^k$. Then\n",
    "$$\n",
    "\\mathbb{E} \\,[\\|v\\|_2^2] = \\|u\\|_2^2\n",
    "$$\n",
    "\n",
    "Another key observation is the idea that the results will concentrate about the mean, or in practice that the standard deviation from this mean will be reasonable\n",
    "\n",
    "We provide intuition through an example:"
   ]
  },
  {
   "cell_type": "code",
   "execution_count": 18,
   "metadata": {},
   "outputs": [],
   "source": [
    "d = 1000\n",
    "k = 10"
   ]
  },
  {
   "cell_type": "code",
   "execution_count": 19,
   "metadata": {},
   "outputs": [],
   "source": [
    "u = random.randn(d,1)\n",
    "u = u / np.linalg.norm(u)"
   ]
  },
  {
   "cell_type": "code",
   "execution_count": 20,
   "metadata": {},
   "outputs": [],
   "source": [
    "# number of samples we will generate\n",
    "iterations = 10000"
   ]
  },
  {
   "cell_type": "code",
   "execution_count": 21,
   "metadata": {},
   "outputs": [],
   "source": [
    "v_errors = np.empty(iterations)"
   ]
  },
  {
   "cell_type": "code",
   "execution_count": 22,
   "metadata": {},
   "outputs": [],
   "source": [
    "for i in range(iterations):\n",
    "    # construct random Gaussian matrix\n",
    "    R = random.randn(k,d)\n",
    "    v = 1/math.sqrt(k) * R @ u\n",
    "    # store squared 2-norm of v\n",
    "    v_errors[i] = np.sum(np.square(v)) - 1\n",
    "\n"
   ]
  },
  {
   "cell_type": "code",
   "execution_count": 23,
   "metadata": {},
   "outputs": [
    {
     "name": "stdout",
     "output_type": "stream",
     "text": [
      "Mean: 0.0002550196137952753\n"
     ]
    }
   ],
   "source": [
    "print(f'Mean: {np.mean(v_errors)}')"
   ]
  },
  {
   "cell_type": "code",
   "execution_count": 24,
   "metadata": {},
   "outputs": [
    {
     "name": "stdout",
     "output_type": "stream",
     "text": [
      "Stdev: 0.44902514727389\n"
     ]
    }
   ],
   "source": [
    "print(f'Stdev: {np.std(v_errors)}')"
   ]
  },
  {
   "cell_type": "code",
   "execution_count": 25,
   "metadata": {
    "scrolled": true
   },
   "outputs": [
    {
     "data": {
      "image/png": "[encoded data removed]",
      "text/plain": [
       "<Figure size 432x288 with 1 Axes>"
      ]
     },
     "metadata": {
      "needs_background": "light"
     },
     "output_type": "display_data"
    }
   ],
   "source": [
    "_ = plt.hist(v_errors,bins=100)"
   ]
  },
  {
   "cell_type": "markdown",
   "metadata": {},
   "source": [
    "In the histogram above, we see that the mean is of $\\|v\\|_2^2 - \\|u\\|_2^2$ is $0.000255 \\approx 0$, and the standard deviation $0.449$ is fairly reasonable. Thus, we derive two conclusions: that maps exist which preserve the the norms of $u$ (in practice, the pairwise distances in a larger matrix) very precisely, and also that any given random map will perform 'reasonably' at this task."
   ]
  },
  {
   "cell_type": "code",
   "execution_count": null,
   "metadata": {},
   "outputs": [],
   "source": []
  }
 ],
 "metadata": {
  "kernelspec": {
   "display_name": "Python 3",
   "language": "python",
   "name": "python3"
  },
  "language_info": {
   "codemirror_mode": {
    "name": "ipython",
    "version": 3
   },
   "file_extension": ".py",
   "mimetype": "text/x-python",
   "name": "python",
   "nbconvert_exporter": "python",
   "pygments_lexer": "ipython3",
   "version": "3.7.4"
  }
 },
 "nbformat": 4,
 "nbformat_minor": 2
}
