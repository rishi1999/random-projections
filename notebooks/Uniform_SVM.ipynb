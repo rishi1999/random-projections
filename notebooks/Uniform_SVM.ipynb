{
 "cells": [
  {
   "cell_type": "code",
   "execution_count": 1,
   "metadata": {},
   "outputs": [],
   "source": [
    "import numpy as np\n",
    "from sklearn.decomposition import KernelPCA\n",
    "import matplotlib.pyplot as plt\n",
    "from time import perf_counter\n",
    "import pandas as pd\n",
    "from mpl_toolkits.mplot3d import Axes3D\n",
    "from tqdm import tqdm, trange\n",
    "import multivariatet as mt\n",
    "from sklearn.model_selection import train_test_split\n",
    "from sklearn.svm import SVC\n",
    "\n",
    "%matplotlib inline"
   ]
  },
  {
   "cell_type": "markdown",
   "metadata": {},
   "source": [
    "## read in data"
   ]
  },
  {
   "cell_type": "code",
   "execution_count": 73,
   "metadata": {},
   "outputs": [],
   "source": [
    "#mnist = pd.read_csv('../datasets/mnist/train.csv')\n",
    "mnist = pd.read_csv('../datasets/fashion/fashion-mnist_test.csv')\n",
    "\n",
    "full_X = mnist[mnist.columns[1:]].values / 255\n",
    "full_y = mnist.label.values\n",
    "\n",
    "X = full_X[:1000]\n",
    "y = full_y[:1000]\n",
    "\n",
    "n,d = X.shape\n",
    "\n",
    "X_train, X_test, y_train, y_test = train_test_split(X, y, test_size=0.2, random_state=15)"
   ]
  },
  {
   "cell_type": "code",
   "execution_count": 74,
   "metadata": {},
   "outputs": [],
   "source": [
    "# voice = pd.read_csv('../datasets/voice/voice.csv')\n",
    "# full_X = voice[voice.columns[:-1]].values\n",
    "# full_y = voice.label.values\n",
    "\n",
    "# full_y = np.asarray(list(map(lambda x: 0 if x=='male' else 1, full_y)))\n",
    "\n",
    "# X = full_X\n",
    "# y = full_y\n",
    "\n",
    "# n,d = X.shape\n",
    "\n",
    "# X_train, X_test, y_train, y_test = train_test_split(X, y, test_size=0.2, random_state=15)"
   ]
  },
  {
   "cell_type": "markdown",
   "metadata": {},
   "source": [
    "## kernel generation functions"
   ]
  },
  {
   "cell_type": "code",
   "execution_count": 89,
   "metadata": {},
   "outputs": [],
   "source": [
    "def generate_kernel(m=40, q=10, s=1/d, scale=True):\n",
    "    q_arr = np.random.uniform(low=0.5, high=4, size=q) # multipliers for size of domain of inner uniform distribution\n",
    "#     q_arr = np.random.uniform(low=2, high=5, size=q) # multipliers for size of domain of inner uniform distribution\n",
    "#     q_arr = np.random.chisquare(df=3, size=q)\n",
    "#     q_arr = np.maximum(q_arr, np.zeros(q))\n",
    "#     print(q_arr)\n",
    "    if scale:\n",
    "        s = s/np.var(X_train)\n",
    "    std = np.sqrt(2*s)\n",
    "    W = np.random.uniform(low=-std*q_arr, high=std*q_arr, size=(m,d,q))\n",
    "    b = np.random.uniform(low=0, high=2*np.pi, size=(1,m,1))\n",
    "    \n",
    "    def ker(x, y):\n",
    "        z1 = np.cos(np.dot(x, W) + b)\n",
    "        z2 = np.cos(np.dot(y, W) + b)\n",
    "        res = np.tensordot(z1, z2, axes=([1,2],[1,2])) / (m*q)\n",
    "        return res\n",
    "    \n",
    "    return ker"
   ]
  },
  {
   "cell_type": "markdown",
   "metadata": {},
   "source": [
    "    x: test, d\n",
    "    y: train, d\n",
    "    W: q, m, d ---- m, d, q\n",
    "    b: 1, m\n",
    "    z1: test, m ---- test, m, q\n",
    "    z2: train, m ---- train, m, q\n",
    "    res: test, train"
   ]
  },
  {
   "cell_type": "markdown",
   "metadata": {},
   "source": [
    "## experiments"
   ]
  },
  {
   "cell_type": "markdown",
   "metadata": {},
   "source": [
    "### deterministic"
   ]
  },
  {
   "cell_type": "code",
   "execution_count": 76,
   "metadata": {},
   "outputs": [
    {
     "name": "stderr",
     "output_type": "stream",
     "text": [
      "100%|██████████████████████████████████████████████████████████████████████████████████| 40/40 [00:41<00:00,  1.03s/it]\n"
     ]
    },
    {
     "name": "stdout",
     "output_type": "stream",
     "text": [
      "Scale score: 0.78\n"
     ]
    }
   ],
   "source": [
    "iterations = 40\n",
    "det_scores = np.empty((iterations))\n",
    "det_times = np.empty((iterations))\n",
    "\n",
    "for i in trange(iterations):\n",
    "    start = perf_counter()\n",
    "    det_svm = SVC(gamma='auto')\n",
    "    det_svm.fit(X_train, y_train)\n",
    "    det_scores[i] = det_svm.score(X_test, y_test)\n",
    "    det_times[i] = perf_counter() - start\n",
    "    \n",
    "det_svm = SVC(gamma='scale')\n",
    "det_svm.fit(X_train, y_train)\n",
    "print(f'Scale score: {det_svm.score(X_test, y_test)}')"
   ]
  },
  {
   "cell_type": "code",
   "execution_count": 77,
   "metadata": {},
   "outputs": [
    {
     "name": "stdout",
     "output_type": "stream",
     "text": [
      "Accuracy: 0.705\n",
      "Mean time: 1.023846877500023\n"
     ]
    }
   ],
   "source": [
    "print(f'Accuracy: {det_scores[0]}')\n",
    "print(f'Mean time: {np.mean(det_times)}')"
   ]
  },
  {
   "cell_type": "code",
   "execution_count": 78,
   "metadata": {},
   "outputs": [
    {
     "name": "stdout",
     "output_type": "stream",
     "text": [
      "Accuracy: 0.705\n",
      "Mean time: 1.023846877500023\n"
     ]
    }
   ],
   "source": [
    "print(f'Accuracy: {det_scores[0]}')\n",
    "print(f'Mean time: {np.mean(det_times)}')"
   ]
  },
  {
   "cell_type": "code",
   "execution_count": 79,
   "metadata": {},
   "outputs": [
    {
     "data": {
      "image/png": "[encoded data removed]",
      "text/plain": [
       "<Figure size 432x288 with 1 Axes>"
      ]
     },
     "metadata": {
      "needs_background": "light"
     },
     "output_type": "display_data"
    }
   ],
   "source": [
    "plt.hist(det_times, bins=70);"
   ]
  },
  {
   "cell_type": "markdown",
   "metadata": {},
   "source": [
    "### randomized"
   ]
  },
  {
   "cell_type": "code",
   "execution_count": 90,
   "metadata": {
    "scrolled": true
   },
   "outputs": [
    {
     "name": "stderr",
     "output_type": "stream",
     "text": [
      "100%|████████████████████████████████████████████████████████████████████████████████████| 1/1 [00:02<00:00,  2.19s/it]\n"
     ]
    }
   ],
   "source": [
    "iterations = 100\n",
    "scores = np.empty((iterations))\n",
    "times = np.empty((iterations))\n",
    "    \n",
    "\n",
    "for i in trange(iterations):\n",
    "    start = perf_counter()\n",
    "    random_svm = SVC(kernel=generate_kernel())\n",
    "    random_svm.fit(X_train, y_train)\n",
    "    scores[i] = random_svm.score(X_test, y_test)\n",
    "    times[i]= perf_counter() - start\n",
    "\n",
    "stat = np.empty(7)\n",
    "stat[0] = np.min(scores)\n",
    "stat[1] = np.quantile(scores, 0.25)\n",
    "stat[2] = np.median(scores)\n",
    "stat[3] = np.quantile(scores, 0.75)\n",
    "stat[4] = np.max(scores)\n",
    "stat[5] = np.mean(scores)\n",
    "stat[6] = np.std(scores)"
   ]
  },
  {
   "cell_type": "code",
   "execution_count": 91,
   "metadata": {},
   "outputs": [
    {
     "name": "stdout",
     "output_type": "stream",
     "text": [
      "Mean accuracy: 0.705, stdev: 0.0, mean time: 2.1854505999999674\n",
      "Acc. stats: Q0: 0.705, Q1: 0.705, Q2: 0.705, Q3: 0.705, Q4: 0.705\n"
     ]
    }
   ],
   "source": [
    "print(f'Mean accuracy: {stat[5]}, stdev: {stat[6]}, mean time: {np.mean(times)}')\n",
    "print(f'Acc. stats: Q0: {stat[0]}, Q1: {stat[1]}, Q2: {stat[2]}, Q3: {stat[3]}, Q4: {stat[4]}')"
   ]
  },
  {
   "cell_type": "code",
   "execution_count": 82,
   "metadata": {
    "scrolled": false
   },
   "outputs": [
    {
     "data": {
      "image/png": "[encoded data removed]",
      "text/plain": [
       "<Figure size 432x288 with 1 Axes>"
      ]
     },
     "metadata": {
      "needs_background": "light"
     },
     "output_type": "display_data"
    }
   ],
   "source": [
    "plt.hist(scores, bins=50);"
   ]
  },
  {
   "cell_type": "code",
   "execution_count": 83,
   "metadata": {
    "scrolled": true
   },
   "outputs": [
    {
     "data": {
      "image/png": "[encoded data removed]",
      "text/plain": [
       "<Figure size 432x288 with 1 Axes>"
      ]
     },
     "metadata": {
      "needs_background": "light"
     },
     "output_type": "display_data"
    }
   ],
   "source": [
    "plt.hist(times, bins=100);"
   ]
  },
  {
   "cell_type": "code",
   "execution_count": 84,
   "metadata": {
    "scrolled": true
   },
   "outputs": [
    {
     "data": {
      "image/png": "[encoded data removed]",
      "text/plain": [
       "<Figure size 432x288 with 1 Axes>"
      ]
     },
     "metadata": {
      "needs_background": "light"
     },
     "output_type": "display_data"
    }
   ],
   "source": [
    "plt.hist2d(scores, times, bins=50);"
   ]
  },
  {
   "cell_type": "markdown",
   "metadata": {},
   "source": [
    "### cheating randomized (training on the test data)"
   ]
  },
  {
   "cell_type": "markdown",
   "metadata": {},
   "source": [
    "The purpose of this experiment is to see whether the model is able to recover all of the modes that it learns on."
   ]
  },
  {
   "cell_type": "code",
   "execution_count": 34,
   "metadata": {},
   "outputs": [
    {
     "name": "stderr",
     "output_type": "stream",
     "text": [
      "100%|████████████████████████████████████████████████████████████████████████████████| 100/100 [04:15<00:00,  2.55s/it]\n"
     ]
    }
   ],
   "source": [
    "iterations = 100\n",
    "cscores = np.empty((iterations))\n",
    "ctimes = np.empty((iterations))\n",
    "    \n",
    "\n",
    "for i in trange(iterations):\n",
    "    start = perf_counter()\n",
    "    crandom_svm = SVC(kernel=generate_kernel())\n",
    "    crandom_svm.fit(X_train, y_train) # caution: do not blindly copy this code.\n",
    "                                   # training on the test data is generally frowned upon.\n",
    "    cscores[i] = crandom_svm.score(X_train, y_train)\n",
    "    ctimes[i]= perf_counter() - start\n",
    "\n",
    "cstat = np.empty(7)\n",
    "cstat[0] = np.min(cscores)\n",
    "cstat[1] = np.quantile(cscores, 0.25)\n",
    "cstat[2] = np.median(cscores)\n",
    "cstat[3] = np.quantile(cscores, 0.75)\n",
    "cstat[4] = np.max(cscores)\n",
    "cstat[5] = np.mean(cscores)\n",
    "cstat[6] = np.std(cscores)"
   ]
  },
  {
   "cell_type": "code",
   "execution_count": 35,
   "metadata": {},
   "outputs": [
    {
     "name": "stdout",
     "output_type": "stream",
     "text": [
      "Mean accuracy: 0.73875, stdev: 0.016971483435457253, mean time: 2.550130451999985\n",
      "Acc. stats: Q0: 0.67875, Q1: 0.7309374999999999, Q2: 0.74, Q3: 0.75, Q4: 0.77625\n"
     ]
    }
   ],
   "source": [
    "print(f'Mean accuracy: {cstat[5]}, stdev: {cstat[6]}, mean time: {np.mean(ctimes)}')\n",
    "print(f'Acc. stats: Q0: {cstat[0]}, Q1: {cstat[1]}, Q2: {cstat[2]}, Q3: {cstat[3]}, Q4: {cstat[4]}')"
   ]
  },
  {
   "cell_type": "code",
   "execution_count": 36,
   "metadata": {},
   "outputs": [
    {
     "data": {
      "image/png": "[encoded data removed]",
      "text/plain": [
       "<Figure size 432x288 with 1 Axes>"
      ]
     },
     "metadata": {
      "needs_background": "light"
     },
     "output_type": "display_data"
    }
   ],
   "source": [
    "plt.hist(cscores, bins=50);"
   ]
  },
  {
   "cell_type": "code",
   "execution_count": 37,
   "metadata": {},
   "outputs": [
    {
     "data": {
      "image/png": "[encoded data removed]",
      "text/plain": [
       "<Figure size 432x288 with 1 Axes>"
      ]
     },
     "metadata": {
      "needs_background": "light"
     },
     "output_type": "display_data"
    }
   ],
   "source": [
    "plt.hist(ctimes, bins=100);"
   ]
  },
  {
   "cell_type": "code",
   "execution_count": 38,
   "metadata": {
    "scrolled": true
   },
   "outputs": [
    {
     "data": {
      "image/png": "[encoded data removed]",
      "text/plain": [
       "<Figure size 432x288 with 1 Axes>"
      ]
     },
     "metadata": {
      "needs_background": "light"
     },
     "output_type": "display_data"
    }
   ],
   "source": [
    "plt.hist2d(cscores, ctimes, bins=50);"
   ]
  },
  {
   "cell_type": "code",
   "execution_count": null,
   "metadata": {},
   "outputs": [],
   "source": []
  }
 ],
 "metadata": {
  "kernelspec": {
   "display_name": "Python 3",
   "language": "python",
   "name": "python3"
  },
  "language_info": {
   "codemirror_mode": {
    "name": "ipython",
    "version": 3
   },
   "file_extension": ".py",
   "mimetype": "text/x-python",
   "name": "python",
   "nbconvert_exporter": "python",
   "pygments_lexer": "ipython3",
   "version": "3.7.4"
  }
 },
 "nbformat": 4,
 "nbformat_minor": 2
}
