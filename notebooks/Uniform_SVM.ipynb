{
 "cells": [
  {
   "cell_type": "code",
   "execution_count": 1,
   "metadata": {},
   "outputs": [],
   "source": [
    "import numpy as np\n",
    "from sklearn.decomposition import KernelPCA\n",
    "import matplotlib.pyplot as plt\n",
    "from time import perf_counter\n",
    "import pandas as pd\n",
    "from mpl_toolkits.mplot3d import Axes3D\n",
    "from tqdm import tqdm, trange\n",
    "import multivariatet as mt\n",
    "from sklearn.model_selection import train_test_split\n",
    "from sklearn.svm import SVC\n",
    "\n",
    "%matplotlib inline"
   ]
  },
  {
   "cell_type": "markdown",
   "metadata": {},
   "source": [
    "## read in data"
   ]
  },
  {
   "cell_type": "code",
   "execution_count": 5,
   "metadata": {},
   "outputs": [],
   "source": [
    "mnist = pd.read_csv('../datasets/mnist/train.csv')\n",
    "# mnist = pd.read_csv('../datasets/fashion/fashion-mnist_test.csv')\n",
    "\n",
    "full_X = mnist[mnist.columns[1:]].values / 255\n",
    "full_y = mnist.label.values\n",
    "\n",
    "X = full_X[:1000]\n",
    "y = full_y[:1000]\n",
    "\n",
    "n,d = X.shape\n",
    "\n",
    "X_train, X_test, y_train, y_test = train_test_split(X, y, test_size=0.2, random_state=15)"
   ]
  },
  {
   "cell_type": "code",
   "execution_count": 6,
   "metadata": {},
   "outputs": [],
   "source": [
    "# voice = pd.read_csv('../datasets/voice/voice.csv')\n",
    "# full_X = voice[voice.columns[:-1]].values\n",
    "# full_y = voice.label.values\n",
    "\n",
    "# full_y = np.asarray(list(map(lambda x: 0 if x=='male' else 1, full_y)))\n",
    "\n",
    "# X = full_X\n",
    "# y = full_y\n",
    "\n",
    "# n,d = X.shape\n",
    "\n",
    "# X_train, X_test, y_train, y_test = train_test_split(X, y, test_size=0.2, random_state=15)"
   ]
  },
  {
   "cell_type": "markdown",
   "metadata": {},
   "source": [
    "## kernel generation functions"
   ]
  },
  {
   "cell_type": "code",
   "execution_count": 7,
   "metadata": {},
   "outputs": [],
   "source": [
    "def generate_kernel(m=40, q=10, s=1/d, scale=True):\n",
    "    q_arr = np.random.uniform(low=0.5, high=4, size=q) # multipliers for size of domain of inner uniform distribution\n",
    "\n",
    "    if scale:\n",
    "        s = s/np.var(X_train)\n",
    "    std = np.sqrt(2*s)\n",
    "    W = np.random.uniform(low=-std*q_arr, high=std*q_arr, size=(m,d,q))\n",
    "    b = np.random.uniform(low=0, high=2*np.pi, size=(1,m,1))\n",
    "    \n",
    "    def ker(x, y):\n",
    "        z1 = np.cos(np.dot(x, W) + b)\n",
    "        z2 = np.cos(np.dot(y, W) + b)\n",
    "        res = np.tensordot(z1, z2, axes=([1,2],[1,2])) / (m*q)\n",
    "        return res\n",
    "    \n",
    "    return ker"
   ]
  },
  {
   "cell_type": "markdown",
   "metadata": {},
   "source": [
    "    x: test, d\n",
    "    y: train, d\n",
    "    W: q, m, d ---- m, d, q\n",
    "    b: 1, m\n",
    "    z1: test, m ---- test, m, q\n",
    "    z2: train, m ---- train, m, q\n",
    "    res: test, train"
   ]
  },
  {
   "cell_type": "markdown",
   "metadata": {},
   "source": [
    "## experiments"
   ]
  },
  {
   "cell_type": "markdown",
   "metadata": {},
   "source": [
    "### deterministic"
   ]
  },
  {
   "cell_type": "code",
   "execution_count": 49,
   "metadata": {},
   "outputs": [],
   "source": [
    "gamma_val = 'scale'"
   ]
  },
  {
   "cell_type": "code",
   "execution_count": 53,
   "metadata": {},
   "outputs": [],
   "source": [
    "det_svm = SVC(gamma=gamma_val)\n",
    "det_svm.fit(X_train, y_train)\n",
    "det_score = det_svm.score(X_test, y_test)"
   ]
  },
  {
   "cell_type": "code",
   "execution_count": 54,
   "metadata": {},
   "outputs": [
    {
     "name": "stderr",
     "output_type": "stream",
     "text": [
      "100%|██████████| 40/40 [00:13<00:00,  2.97it/s]\n"
     ]
    }
   ],
   "source": [
    "iterations = 40\n",
    "det_times = np.empty((iterations))\n",
    "\n",
    "for i in trange(iterations):\n",
    "    start = perf_counter()\n",
    "    det_svm = SVC(gamma=gamma_val)\n",
    "    det_svm.fit(X_test, y_test)\n",
    "    _ = det_svm.score(X_test, y_test)\n",
    "    det_times[i] = perf_counter() - start"
   ]
  },
  {
   "cell_type": "code",
   "execution_count": 55,
   "metadata": {},
   "outputs": [
    {
     "name": "stdout",
     "output_type": "stream",
     "text": [
      "Accuracy: 0.905, time: 4.128664026000015\n"
     ]
    }
   ],
   "source": [
    "print(f'Accuracy: {det_score}, time: {np.mean(times)}')"
   ]
  },
  {
   "cell_type": "markdown",
   "metadata": {},
   "source": [
    "### randomized"
   ]
  },
  {
   "cell_type": "code",
   "execution_count": 39,
   "metadata": {
    "scrolled": true
   },
   "outputs": [
    {
     "name": "stderr",
     "output_type": "stream",
     "text": [
      "100%|██████████| 50/50 [03:26<00:00,  4.13s/it]\n"
     ]
    }
   ],
   "source": [
    "iterations = 50\n",
    "scores = np.empty((iterations))\n",
    "times = np.empty((iterations))\n",
    "    \n",
    "\n",
    "for i in trange(iterations):\n",
    "    start = perf_counter()\n",
    "    random_svm = SVC(kernel=generate_kernel())\n",
    "    random_svm.fit(X_train, y_train)\n",
    "    scores[i] = random_svm.score(X_test, y_test)\n",
    "    times[i]= perf_counter() - start\n",
    "\n",
    "stat = np.empty(7)\n",
    "stat[0] = np.min(scores)\n",
    "stat[1] = np.quantile(scores, 0.25)\n",
    "stat[2] = np.median(scores)\n",
    "stat[3] = np.quantile(scores, 0.75)\n",
    "stat[4] = np.max(scores)\n",
    "stat[5] = np.mean(scores)\n",
    "stat[6] = np.std(scores)"
   ]
  },
  {
   "cell_type": "code",
   "execution_count": 40,
   "metadata": {},
   "outputs": [
    {
     "name": "stdout",
     "output_type": "stream",
     "text": [
      "Mean accuracy: 0.8206, stdev: 0.024609754163745702, mean time: 4.128664026000015\n",
      "Acc. stats: Q0: 0.75, Q1: 0.81, Q2: 0.8225, Q3: 0.835, Q4: 0.87\n"
     ]
    }
   ],
   "source": [
    "print(f'Mean accuracy: {stat[5]}, stdev: {stat[6]}, mean time: {np.mean(times)}')\n",
    "print(f'Acc. stats: Q0: {stat[0]}, Q1: {stat[1]}, Q2: {stat[2]}, Q3: {stat[3]}, Q4: {stat[4]}')"
   ]
  },
  {
   "cell_type": "code",
   "execution_count": 41,
   "metadata": {
    "scrolled": false
   },
   "outputs": [
    {
     "data": {
      "image/png": "[encoded data removed]",
      "text/plain": [
       "<Figure size 432x288 with 1 Axes>"
      ]
     },
     "metadata": {
      "needs_background": "light"
     },
     "output_type": "display_data"
    }
   ],
   "source": [
    "plt.hist(scores, bins=50);"
   ]
  },
  {
   "cell_type": "code",
   "execution_count": 42,
   "metadata": {
    "scrolled": true
   },
   "outputs": [
    {
     "data": {
      "image/png": "[encoded data removed]",
      "text/plain": [
       "<Figure size 432x288 with 1 Axes>"
      ]
     },
     "metadata": {
      "needs_background": "light"
     },
     "output_type": "display_data"
    }
   ],
   "source": [
    "plt.hist(times, bins=100);"
   ]
  },
  {
   "cell_type": "code",
   "execution_count": 58,
   "metadata": {
    "scrolled": true
   },
   "outputs": [
    {
     "data": {
      "image/png": "[encoded data removed]",
      "text/plain": [
       "<Figure size 432x288 with 1 Axes>"
      ]
     },
     "metadata": {
      "needs_background": "light"
     },
     "output_type": "display_data"
    }
   ],
   "source": [
    "plt.hist2d(scores, times, bins=50, cmap='inferno');"
   ]
  },
  {
   "cell_type": "markdown",
   "metadata": {},
   "source": [
    "### cheating randomized (training on the test data)"
   ]
  },
  {
   "cell_type": "markdown",
   "metadata": {},
   "source": [
    "The purpose of this experiment is to see whether the model is able to recover all of the modes that it learns on."
   ]
  },
  {
   "cell_type": "code",
   "execution_count": 44,
   "metadata": {},
   "outputs": [
    {
     "name": "stderr",
     "output_type": "stream",
     "text": [
      "100%|██████████| 50/50 [00:54<00:00,  1.09s/it]\n"
     ]
    }
   ],
   "source": [
    "iterations = 50\n",
    "cscores = np.empty((iterations))\n",
    "ctimes = np.empty((iterations))\n",
    "    \n",
    "\n",
    "for i in trange(iterations):\n",
    "    start = perf_counter()\n",
    "    crandom_svm = SVC(kernel=generate_kernel())\n",
    "    crandom_svm.fit(X_test, y_test) # caution: do not blindly copy this code.\n",
    "                                   # training on the test data is generally frowned upon.\n",
    "    cscores[i] = crandom_svm.score(X_test, y_test)\n",
    "    ctimes[i]= perf_counter() - start\n",
    "\n",
    "cstat = np.empty(7)\n",
    "cstat[0] = np.min(cscores)\n",
    "cstat[1] = np.quantile(cscores, 0.25)\n",
    "cstat[2] = np.median(cscores)\n",
    "cstat[3] = np.quantile(cscores, 0.75)\n",
    "cstat[4] = np.max(cscores)\n",
    "cstat[5] = np.mean(cscores)\n",
    "cstat[6] = np.std(cscores)"
   ]
  },
  {
   "cell_type": "code",
   "execution_count": 45,
   "metadata": {},
   "outputs": [
    {
     "name": "stdout",
     "output_type": "stream",
     "text": [
      "Mean accuracy: 0.8241999999999998, stdev: 0.04868634305428987, mean time: 1.091704465999992\n",
      "Acc. stats: Q0: 0.67, Q1: 0.805, Q2: 0.83, Q3: 0.86, Q4: 0.905\n"
     ]
    }
   ],
   "source": [
    "print(f'Mean accuracy: {cstat[5]}, stdev: {cstat[6]}, mean time: {np.mean(ctimes)}')\n",
    "print(f'Acc. stats: Q0: {cstat[0]}, Q1: {cstat[1]}, Q2: {cstat[2]}, Q3: {cstat[3]}, Q4: {cstat[4]}')"
   ]
  },
  {
   "cell_type": "code",
   "execution_count": 46,
   "metadata": {},
   "outputs": [
    {
     "data": {
      "image/png": "[encoded data removed]",
      "text/plain": [
       "<Figure size 432x288 with 1 Axes>"
      ]
     },
     "metadata": {
      "needs_background": "light"
     },
     "output_type": "display_data"
    }
   ],
   "source": [
    "plt.hist(cscores, bins=50);"
   ]
  },
  {
   "cell_type": "code",
   "execution_count": 47,
   "metadata": {},
   "outputs": [
    {
     "data": {
      "image/png": "[encoded data removed]",
      "text/plain": [
       "<Figure size 432x288 with 1 Axes>"
      ]
     },
     "metadata": {
      "needs_background": "light"
     },
     "output_type": "display_data"
    }
   ],
   "source": [
    "plt.hist(ctimes, bins=100);"
   ]
  },
  {
   "cell_type": "code",
   "execution_count": 59,
   "metadata": {
    "scrolled": true
   },
   "outputs": [
    {
     "data": {
      "image/png": "[encoded data removed]",
      "text/plain": [
       "<Figure size 432x288 with 1 Axes>"
      ]
     },
     "metadata": {
      "needs_background": "light"
     },
     "output_type": "display_data"
    }
   ],
   "source": [
    "plt.hist2d(cscores, ctimes, bins=50, cmap='inferno');"
   ]
  },
  {
   "cell_type": "code",
   "execution_count": null,
   "metadata": {},
   "outputs": [],
   "source": []
  }
 ],
 "metadata": {
  "kernelspec": {
   "display_name": "Python 3",
   "language": "python",
   "name": "python3"
  },
  "language_info": {
   "codemirror_mode": {
    "name": "ipython",
    "version": 3
   },
   "file_extension": ".py",
   "mimetype": "text/x-python",
   "name": "python",
   "nbconvert_exporter": "python",
   "pygments_lexer": "ipython3",
   "version": "3.7.6"
  }
 },
 "nbformat": 4,
 "nbformat_minor": 2
}
