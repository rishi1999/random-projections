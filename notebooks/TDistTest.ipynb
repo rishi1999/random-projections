{
 "cells": [
  {
   "cell_type": "code",
   "execution_count": 17,
   "metadata": {},
   "outputs": [],
   "source": [
    "import numpy as np\n",
    "from sklearn.decomposition import KernelPCA\n",
    "import matplotlib.pyplot as plt\n",
    "from time import perf_counter\n",
    "import pandas as pd\n",
    "from mpl_toolkits.mplot3d import Axes3D\n",
    "from tqdm import tqdm\n",
    "import multivariatet as mt\n",
    "from sklearn.model_selection import train_test_split\n",
    "from sklearn.svm import SVC\n",
    "\n",
    "%matplotlib inline"
   ]
  },
  {
   "cell_type": "code",
   "execution_count": 18,
   "metadata": {},
   "outputs": [],
   "source": [
    "mnist = pd.read_csv('../datasets/mnist/train.csv')\n",
    "\n",
    "full_X = mnist[mnist.columns[1:]].values / 255\n",
    "full_y = mnist.label.values\n",
    "\n",
    "X = full_X[:1000]\n",
    "y = full_y[:1000]\n",
    "\n",
    "n,d = X.shape\n",
    "\n",
    "X_train, X_test, y_train, y_test = train_test_split(X, y, test_size=0.2, random_state=15)\n",
    "domain = (1/784) * np.asarray([.125,.25,.5,1,2,4,8,16,32,64,128])"
   ]
  },
  {
   "cell_type": "code",
   "execution_count": 42,
   "metadata": {},
   "outputs": [],
   "source": [
    "def generate_kernel(m=350, s=1/d):\n",
    "    b = np.random.uniform(low=0, high=2*np.pi, size=(1,m))\n",
    "    #W = mt.multivariate_t.rvs(mean=np.zeros(d), df=1, shape=2*s*np.eye(d), size=m) # m x d\n",
    "    value = np.sqrt(2s)\n",
    "    W = np.random.uniform(low=-value, high=value, size=(m,d))\n",
    "    def ker(x, y):\n",
    "        z1 = np.cos(x @ W.T + b)\n",
    "        z2 = np.cos(y @ W.T + b)\n",
    "        return z1 @ z2.T / m\n",
    "    return ker"
   ]
  },
  {
   "cell_type": "code",
   "execution_count": 48,
   "metadata": {},
   "outputs": [],
   "source": [
    "iterations = 10\n",
    "scores = np.empty((domain.shape[0], iterations))\n",
    "    \n",
    "for i,val in enumerate(domain):\n",
    "    for j in range(iterations):\n",
    "        random_svm = SVC(kernel=generate_kernel(s=val))\n",
    "        random_svm.fit(X_train, y_train)\n",
    "        scores[i,j] = random_svm.score(X_test, y_test)\n",
    "\n",
    "stat = np.empty((7, domain.shape[0]))\n",
    "stat[0] = np.min(scores, axis=1)\n",
    "stat[1] = np.quantile(scores, 0.25, axis=1)\n",
    "stat[2] = np.median(scores, axis=1)\n",
    "stat[3] = np.quantile(scores, 0.75, axis=1)\n",
    "stat[4] = np.max(scores, axis=1)\n",
    "stat[5] = np.mean(scores, axis=1)\n",
    "stat[6] = np.std(scores, axis=1)"
   ]
  },
  {
   "cell_type": "code",
   "execution_count": 49,
   "metadata": {},
   "outputs": [
    {
     "data": {
      "text/plain": [
       "Text(0.5, 1.0, \"Randomized Kernel SVM accuracy 'continuous boxplot'\")"
      ]
     },
     "execution_count": 49,
     "metadata": {},
     "output_type": "execute_result"
    },
    {
     "data": {
      "image/png": "[encoded data removed]",
      "text/plain": [
       "<Figure size 432x288 with 1 Axes>"
      ]
     },
     "metadata": {
      "needs_background": "light"
     },
     "output_type": "display_data"
    }
   ],
   "source": [
    "plt.plot(domain, stat[2], c='b', label='Median')\n",
    "plt.fill_between(domain, stat[4], stat[0], alpha=0.2, label='Range', lw=1)\n",
    "plt.fill_between(domain, stat[1], stat[3], alpha=0.5, label='IQR', lw=1)\n",
    "plt.xlabel('s')\n",
    "plt.ylabel('Accuracy')\n",
    "#plt.set_yscale('log')\n",
    "plt.legend(loc='upper right')\n",
    "plt.title('Randomized Kernel SVM accuracy \\'continuous boxplot\\'')"
   ]
  },
  {
   "cell_type": "code",
   "execution_count": 45,
   "metadata": {},
   "outputs": [],
   "source": [
    "large_X = full_X[:10000]\n",
    "large_y = full_y[:10000]\n",
    "large_X_train, large_X_test, large_y_train, large_y_test = train_test_split(large_X, large_y, test_size=0.2, random_state=15)"
   ]
  },
  {
   "cell_type": "code",
   "execution_count": 46,
   "metadata": {},
   "outputs": [
    {
     "name": "stderr",
     "output_type": "stream",
     "text": [
      "100%|████████████████████████████████████████████████████████████████████████████████| 100/100 [07:10<00:00,  4.30s/it]\n"
     ]
    }
   ],
   "source": [
    "start = perf_counter()\n",
    "svm = SVC(gamma='auto')\n",
    "svm.fit(large_X_train, large_y_train)\n",
    "det_score = svm.score(large_X_test, large_y_test)\n",
    "end = perf_counter()\n",
    "det_time = end - start\n",
    "\n",
    "\n",
    "iterations = 100\n",
    "scores = np.empty(iterations)\n",
    "times = np.empty(iterations)\n",
    "\n",
    "for i in tqdm(range(iterations)):\n",
    "    start = perf_counter()\n",
    "    random_svm = SVC(kernel=generate_kernel())\n",
    "    random_svm.fit(large_X_train, large_y_train)\n",
    "    end = perf_counter()\n",
    "    times[i] = end - start\n",
    "    scores[i] = random_svm.score(large_X_test, large_y_test)"
   ]
  },
  {
   "cell_type": "code",
   "execution_count": 47,
   "metadata": {},
   "outputs": [
    {
     "name": "stdout",
     "output_type": "stream",
     "text": [
      "Gaussian kernel: Accuracy: 0.9195, time: 55.315938899999765\n",
      "Random kernel: Mean accuracy: 0.8218049999999998, stdev: 0.007699641225407836, mean time: 3.3171135520000323\n",
      "Acc. stats: Q0: 0.8035, Q1: 0.8165, Q2: 0.8225, Q3: 0.8265, Q4: 0.8425\n"
     ]
    }
   ],
   "source": [
    "print(f'Gaussian kernel: Accuracy: {det_score}, time: {det_time}')\n",
    "print(f'Random kernel: Mean accuracy: {np.mean(scores)}, stdev: {np.std(scores)}, mean time: {np.mean(times)}')\n",
    "print(f'Acc. stats: Q0: {np.min(scores)}, Q1: {np.quantile(scores, 0.25)}, Q2: {np.median(scores)}, Q3: {np.quantile(scores,0.75)}, Q4: {np.max(scores)}')"
   ]
  },
  {
   "cell_type": "code",
   "execution_count": null,
   "metadata": {},
   "outputs": [],
   "source": []
  }
 ],
 "metadata": {
  "kernelspec": {
   "display_name": "Python 3",
   "language": "python",
   "name": "python3"
  },
  "language_info": {
   "codemirror_mode": {
    "name": "ipython",
    "version": 3
   },
   "file_extension": ".py",
   "mimetype": "text/x-python",
   "name": "python",
   "nbconvert_exporter": "python",
   "pygments_lexer": "ipython3",
   "version": "3.7.4"
  }
 },
 "nbformat": 4,
 "nbformat_minor": 2
}
