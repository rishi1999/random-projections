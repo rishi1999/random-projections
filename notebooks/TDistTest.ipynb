{
 "cells": [
  {
   "cell_type": "code",
   "execution_count": 75,
   "metadata": {},
   "outputs": [],
   "source": [
    "import numpy as np\n",
    "from sklearn.decomposition import KernelPCA\n",
    "import matplotlib.pyplot as plt\n",
    "from time import perf_counter\n",
    "import pandas as pd\n",
    "from mpl_toolkits.mplot3d import Axes3D\n",
    "from tqdm.notebook import tqdm\n",
    "import multivariatet as mt\n",
    "from sklearn.model_selection import train_test_split\n",
    "from sklearn.svm import SVC\n",
    "\n",
    "%matplotlib inline"
   ]
  },
  {
   "cell_type": "code",
   "execution_count": 2,
   "metadata": {},
   "outputs": [],
   "source": [
    "mnist = pd.read_csv('../datasets/mnist/train.csv')\n",
    "\n",
    "full_X = mnist[mnist.columns[1:]].values / 255\n",
    "full_y = mnist.label.values\n",
    "\n",
    "X = full_X[:1000]\n",
    "y = full_y[:1000]\n",
    "\n",
    "n,d = X.shape\n",
    "\n",
    "X_train, X_test, y_train, y_test = train_test_split(X, y, test_size=0.2, random_state=15)\n",
    "domain = (1/784) * np.asarray([.125,.25,.5,1,2,4,8,16,32,64,128])"
   ]
  },
  {
   "cell_type": "code",
   "execution_count": 82,
   "metadata": {},
   "outputs": [],
   "source": [
    "def old_generate_kernel(m=50, q=10, s=1/d):\n",
    "    b = np.random.uniform(low=0, high=2*np.pi, size=(1,m))\n",
    "    \n",
    "    qarray = np.random.uniform(low=0.5, high=4, size=q) #randomly selected parameter values\n",
    "    value = np.sqrt(2*s)\n",
    "    W = np.random.uniform(low=-value*qarray, high=value*qarray, size=(m,d,q)).transpose(2,0,1) # (d,m,q)\n",
    "    def ker(x, y): \n",
    "        sum_ = 0\n",
    "        for i in range(q):\n",
    "            z1 = np.cos(x @ W[i].T + b)\n",
    "            z2 = np.cos(y @ W[i].T + b)\n",
    "            sum_ += z1 @ z2.T\n",
    "        ans = (sum_ / (m*q))\n",
    "        print(ans.shape)\n",
    "        return ans\n",
    "    return ker\n",
    "\n"
   ]
  },
  {
   "cell_type": "code",
   "execution_count": 83,
   "metadata": {},
   "outputs": [],
   "source": [
    "def generate_kernel(m=50, q=20, s=1/d):\n",
    "    b = np.random.uniform(low=0, high=2*np.pi, size=(1,m,1))\n",
    "    \n",
    "    qarray = np.random.uniform(low=0.5, high=4, size=q) #randomly selected parameter values\n",
    "    value = np.sqrt(2*s)\n",
    "    W = np.random.uniform(low=-value*qarray, high=value*qarray, size=(m,d,q)).transpose(1,0,2) # (d,m,q)\n",
    "    def ker(x, y): \n",
    "        z1 = np.cos(np.tensordot(x,W, axes=([1],[0])) + b)\n",
    "        z2 = np.cos(np.tensordot(y,W, axes=([1],[0])) + b)\n",
    "        return np.tensordot(z1, z2, axes=([1,2],[1,2])) / (m*q)\n",
    "            \n",
    "    return ker"
   ]
  },
  {
   "cell_type": "code",
   "execution_count": 71,
   "metadata": {
    "scrolled": false
   },
   "outputs": [],
   "source": [
    "random_svm = SVC(kernel=generate_kernel())\n",
    "random_svm.fit(X_train, y_train)\n",
    "score = random_svm.score(X_test, y_test)"
   ]
  },
  {
   "cell_type": "code",
   "execution_count": 72,
   "metadata": {},
   "outputs": [
    {
     "data": {
      "text/plain": [
       "0.875"
      ]
     },
     "execution_count": 72,
     "metadata": {},
     "output_type": "execute_result"
    }
   ],
   "source": [
    "score"
   ]
  },
  {
   "cell_type": "code",
   "execution_count": 84,
   "metadata": {},
   "outputs": [
    {
     "data": {
      "application/vnd.jupyter.widget-view+json": {
       "model_id": "472296cf084d4761927ee1661426627f",
       "version_major": 2,
       "version_minor": 0
      },
      "text/plain": [
       "HBox(children=(IntProgress(value=0), HTML(value='')))"
      ]
     },
     "metadata": {},
     "output_type": "display_data"
    },
    {
     "name": "stdout",
     "output_type": "stream",
     "text": [
      "\n"
     ]
    },
    {
     "data": {
      "application/vnd.jupyter.widget-view+json": {
       "model_id": "6d973e871d624910b8ae0f6399f565ed",
       "version_major": 2,
       "version_minor": 0
      },
      "text/plain": [
       "HBox(children=(IntProgress(value=0), HTML(value='')))"
      ]
     },
     "metadata": {},
     "output_type": "display_data"
    },
    {
     "name": "stdout",
     "output_type": "stream",
     "text": [
      "\n"
     ]
    },
    {
     "data": {
      "application/vnd.jupyter.widget-view+json": {
       "model_id": "b2c20ac21aba48a08352c499f3ff60c1",
       "version_major": 2,
       "version_minor": 0
      },
      "text/plain": [
       "HBox(children=(IntProgress(value=0), HTML(value='')))"
      ]
     },
     "metadata": {},
     "output_type": "display_data"
    },
    {
     "name": "stdout",
     "output_type": "stream",
     "text": [
      "\n"
     ]
    },
    {
     "data": {
      "application/vnd.jupyter.widget-view+json": {
       "model_id": "a5666995922b4c00ba165bef3504a11c",
       "version_major": 2,
       "version_minor": 0
      },
      "text/plain": [
       "HBox(children=(IntProgress(value=0), HTML(value='')))"
      ]
     },
     "metadata": {},
     "output_type": "display_data"
    },
    {
     "name": "stdout",
     "output_type": "stream",
     "text": [
      "\n"
     ]
    },
    {
     "data": {
      "application/vnd.jupyter.widget-view+json": {
       "model_id": "951ecc6205a44acd88fe68b3fb2b3f8c",
       "version_major": 2,
       "version_minor": 0
      },
      "text/plain": [
       "HBox(children=(IntProgress(value=0), HTML(value='')))"
      ]
     },
     "metadata": {},
     "output_type": "display_data"
    },
    {
     "name": "stdout",
     "output_type": "stream",
     "text": [
      "\n"
     ]
    },
    {
     "data": {
      "application/vnd.jupyter.widget-view+json": {
       "model_id": "1e4066df556743539340266f9c59e5a8",
       "version_major": 2,
       "version_minor": 0
      },
      "text/plain": [
       "HBox(children=(IntProgress(value=0), HTML(value='')))"
      ]
     },
     "metadata": {},
     "output_type": "display_data"
    },
    {
     "name": "stdout",
     "output_type": "stream",
     "text": [
      "\n"
     ]
    },
    {
     "data": {
      "application/vnd.jupyter.widget-view+json": {
       "model_id": "dfad36c008464201ae5dcbd38b026cdd",
       "version_major": 2,
       "version_minor": 0
      },
      "text/plain": [
       "HBox(children=(IntProgress(value=0), HTML(value='')))"
      ]
     },
     "metadata": {},
     "output_type": "display_data"
    },
    {
     "name": "stdout",
     "output_type": "stream",
     "text": [
      "\n"
     ]
    },
    {
     "data": {
      "application/vnd.jupyter.widget-view+json": {
       "model_id": "0317550ce30d4fc9816bd11a69a743c0",
       "version_major": 2,
       "version_minor": 0
      },
      "text/plain": [
       "HBox(children=(IntProgress(value=0), HTML(value='')))"
      ]
     },
     "metadata": {},
     "output_type": "display_data"
    },
    {
     "name": "stdout",
     "output_type": "stream",
     "text": [
      "\n"
     ]
    },
    {
     "data": {
      "application/vnd.jupyter.widget-view+json": {
       "model_id": "710d558e8456495cbdb68712309379ac",
       "version_major": 2,
       "version_minor": 0
      },
      "text/plain": [
       "HBox(children=(IntProgress(value=0), HTML(value='')))"
      ]
     },
     "metadata": {},
     "output_type": "display_data"
    },
    {
     "name": "stdout",
     "output_type": "stream",
     "text": [
      "\n"
     ]
    },
    {
     "data": {
      "application/vnd.jupyter.widget-view+json": {
       "model_id": "a79828f9d0904ddd998f59e15c5e4a66",
       "version_major": 2,
       "version_minor": 0
      },
      "text/plain": [
       "HBox(children=(IntProgress(value=0), HTML(value='')))"
      ]
     },
     "metadata": {},
     "output_type": "display_data"
    },
    {
     "name": "stdout",
     "output_type": "stream",
     "text": [
      "\n"
     ]
    },
    {
     "data": {
      "application/vnd.jupyter.widget-view+json": {
       "model_id": "25ef888e32964252bd5f10c5f26485e2",
       "version_major": 2,
       "version_minor": 0
      },
      "text/plain": [
       "HBox(children=(IntProgress(value=0), HTML(value='')))"
      ]
     },
     "metadata": {},
     "output_type": "display_data"
    },
    {
     "name": "stdout",
     "output_type": "stream",
     "text": [
      "\n"
     ]
    }
   ],
   "source": [
    "iterations = 100\n",
    "scores = np.empty((domain.shape[0], iterations))\n",
    "    \n",
    "for i,val in enumerate(domain):\n",
    "    for j in tqdm(range(iterations)):\n",
    "        random_svm = SVC(kernel=generate_kernel())\n",
    "        random_svm.fit(X_train, y_train)\n",
    "        scores[i,j] = random_svm.score(X_test, y_test)\n",
    "\n",
    "stat = np.empty((7, domain.shape[0]))\n",
    "stat[0] = np.min(scores, axis=1)\n",
    "stat[1] = np.quantile(scores, 0.25, axis=1)\n",
    "stat[2] = np.median(scores, axis=1)\n",
    "stat[3] = np.quantile(scores, 0.75, axis=1)\n",
    "stat[4] = np.max(scores, axis=1)\n",
    "stat[5] = np.mean(scores, axis=1)\n",
    "stat[6] = np.std(scores, axis=1)"
   ]
  },
  {
   "cell_type": "code",
   "execution_count": 85,
   "metadata": {},
   "outputs": [
    {
     "data": {
      "text/plain": [
       "Text(0.5, 1.0, \"Randomized Kernel SVM accuracy 'continuous boxplot'\")"
      ]
     },
     "execution_count": 85,
     "metadata": {},
     "output_type": "execute_result"
    },
    {
     "data": {
      "image/png": "[encoded data removed]",
      "text/plain": [
       "<Figure size 432x288 with 1 Axes>"
      ]
     },
     "metadata": {
      "needs_background": "light"
     },
     "output_type": "display_data"
    }
   ],
   "source": [
    "plt.plot(domain, stat[2], c='b', label='Median')\n",
    "plt.fill_between(domain, stat[4], stat[0], alpha=0.2, label='Range', lw=1)\n",
    "plt.fill_between(domain, stat[1], stat[3], alpha=0.5, label='IQR', lw=1)\n",
    "plt.xlabel('s')\n",
    "plt.ylabel('Accuracy')\n",
    "#plt.set_yscale('log')\n",
    "plt.legend(loc='upper right')\n",
    "plt.title('Randomized Kernel SVM accuracy \\'continuous boxplot\\'')"
   ]
  },
  {
   "cell_type": "code",
   "execution_count": null,
   "metadata": {},
   "outputs": [],
   "source": [
    "# large_X = full_X[:10000]\n",
    "# large_y = full_y[:10000]\n",
    "# large_X_train, large_X_test, large_y_train, large_y_test = train_test_split(large_X, large_y, test_size=0.2, random_state=15)"
   ]
  },
  {
   "cell_type": "code",
   "execution_count": null,
   "metadata": {},
   "outputs": [],
   "source": [
    "# start = perf_counter()\n",
    "# svm = SVC(gamma='auto')\n",
    "# svm.fit(large_X_train, large_y_train)\n",
    "# det_score = svm.score(large_X_test, large_y_test)\n",
    "# end = perf_counter()\n",
    "# det_time = end - start\n",
    "\n",
    "\n",
    "# iterations = 100\n",
    "# scores = np.empty(iterations)\n",
    "# times = np.empty(iterations)\n",
    "\n",
    "# for i in tqdm(range(iterations)):\n",
    "#     start = perf_counter()\n",
    "#     random_svm = SVC(kernel=generate_kernel())\n",
    "#     random_svm.fit(large_X_train, large_y_train)\n",
    "#     end = perf_counter()\n",
    "#     times[i] = end - start\n",
    "#     scores[i] = random_svm.score(large_X_test, large_y_test)"
   ]
  },
  {
   "cell_type": "code",
   "execution_count": null,
   "metadata": {},
   "outputs": [],
   "source": [
    "# print(f'Gaussian kernel: Accuracy: {det_score}, time: {det_time}')\n",
    "# print(f'Random kernel: Mean accuracy: {np.mean(scores)}, stdev: {np.std(scores)}, mean time: {np.mean(times)}')\n",
    "# print(f'Acc. stats: Q0: {np.min(scores)}, Q1: {np.quantile(scores, 0.25)}, Q2: {np.median(scores)}, Q3: {np.quantile(scores,0.75)}, Q4: {np.max(scores)}')"
   ]
  },
  {
   "cell_type": "code",
   "execution_count": null,
   "metadata": {},
   "outputs": [],
   "source": [
    "# test = np.random.uniform(low=[1,10,100], high=[2,20,200], size=(1,2,3)).transpose(2,0,1)\n",
    "# test"
   ]
  },
  {
   "cell_type": "code",
   "execution_count": null,
   "metadata": {},
   "outputs": [],
   "source": [
    "# test.shape"
   ]
  },
  {
   "cell_type": "code",
   "execution_count": null,
   "metadata": {},
   "outputs": [],
   "source": []
  }
 ],
 "metadata": {
  "kernelspec": {
   "display_name": "Python 3",
   "language": "python",
   "name": "python3"
  },
  "language_info": {
   "codemirror_mode": {
    "name": "ipython",
    "version": 3
   },
   "file_extension": ".py",
   "mimetype": "text/x-python",
   "name": "python",
   "nbconvert_exporter": "python",
   "pygments_lexer": "ipython3",
   "version": "3.7.4"
  }
 },
 "nbformat": 4,
 "nbformat_minor": 2
}
