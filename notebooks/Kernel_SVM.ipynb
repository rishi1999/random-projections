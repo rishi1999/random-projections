{
 "cells": [
  {
   "cell_type": "code",
   "execution_count": 1,
   "metadata": {},
   "outputs": [],
   "source": [
    "import numpy as np\n",
    "from sklearn.decomposition import KernelPCA\n",
    "import matplotlib.pyplot as plt\n",
    "from time import perf_counter\n",
    "import pandas as pd\n",
    "from mpl_toolkits.mplot3d import Axes3D\n",
    "from tqdm import tqdm, trange\n",
    "from sklearn.model_selection import train_test_split\n",
    "from sklearn.svm import SVC\n",
    "\n",
    "%matplotlib inline"
   ]
  },
  {
   "cell_type": "markdown",
   "metadata": {},
   "source": [
    "# SVM Classification using Random Fourier Features Kernel\n",
    "\n",
    "First, we read in MNIST data and create two sets of training and testing data, containing $1000$ and $10000$ samples, respectively. These will be used for various experiments"
   ]
  },
  {
   "cell_type": "code",
   "execution_count": 2,
   "metadata": {},
   "outputs": [],
   "source": [
    "mnist = pd.read_csv('../datasets/mnist/train.csv')\n",
    "# mnist = pd.read_csv('../datasets/fashion/fashion-mnist_test.csv')\n",
    "\n",
    "full_X = mnist[mnist.columns[1:]].values / 255\n",
    "full_y = mnist.label.values\n",
    "\n",
    "X = full_X[:1000]\n",
    "y = full_y[:1000]\n",
    "X_train, X_test, y_train, y_test = train_test_split(X, y, test_size=0.2, random_state=15)\n",
    "\n",
    "n,d = X.shape\n",
    "\n",
    "\n",
    "large_X = full_X[:10000]\n",
    "large_y = full_y[:10000]\n",
    "large_X_train, large_X_test, large_y_train, large_y_test = train_test_split(large_X, large_y, test_size=0.2, random_state=15)"
   ]
  },
  {
   "cell_type": "code",
   "execution_count": 3,
   "metadata": {},
   "outputs": [],
   "source": [
    "def generate_kernel(m=350, s=1/d):\n",
    "    b = np.random.uniform(low=0, high=2*np.pi, size=(1,m))\n",
    "    W = np.random.multivariate_normal(mean=np.zeros(d), cov=2*s*np.eye(d), size=m) # m x d\n",
    "    def ker(x, y):\n",
    "        z1 = np.cos(x @ W.T + b)\n",
    "        z2 = np.cos(y @ W.T + b)\n",
    "        return z1 @ z2.T / m\n",
    "    return ker"
   ]
  },
  {
   "cell_type": "markdown",
   "metadata": {},
   "source": [
    "#### Time comparison on $10,000$ MNIST images\n",
    "\n",
    "First, we compare the time needed to train and test a SVM on $10000$ MNIST images ($784$ features)"
   ]
  },
  {
   "cell_type": "code",
   "execution_count": 4,
   "metadata": {},
   "outputs": [
    {
     "name": "stderr",
     "output_type": "stream",
     "text": [
      "100%|████████████████████████████████████████████████████████████████████████████████| 100/100 [04:47<00:00,  2.88s/it]\n"
     ]
    }
   ],
   "source": [
    "start = perf_counter()\n",
    "svm = SVC(gamma='auto')\n",
    "svm.fit(large_X_train, large_y_train)\n",
    "det_score = svm.score(large_X_test, large_y_test)\n",
    "end = perf_counter()\n",
    "det_time = end - start\n",
    "\n",
    "\n",
    "iterations = 100\n",
    "scores = np.empty(iterations)\n",
    "times = np.empty(iterations)\n",
    "\n",
    "for i in tqdm(range(iterations)):\n",
    "    start = perf_counter()\n",
    "    random_svm = SVC(kernel=generate_kernel())\n",
    "    random_svm.fit(large_X_train, large_y_train)\n",
    "    end = perf_counter()\n",
    "    times[i] = end - start\n",
    "    scores[i] = random_svm.score(large_X_test, large_y_test)"
   ]
  },
  {
   "cell_type": "code",
   "execution_count": 5,
   "metadata": {
    "scrolled": true
   },
   "outputs": [
    {
     "name": "stdout",
     "output_type": "stream",
     "text": [
      "Gaussian kernel: Accuracy: 0.9195, time: 39.5625045\n",
      "Random kernel: Mean accuracy: 0.8900499999999998, stdev: 0.004082584965435508, mean time: 2.208678119\n",
      "Acc. stats: Q0: 0.8795, Q1: 0.887875, Q2: 0.89, Q3: 0.8925, Q4: 0.904\n"
     ]
    }
   ],
   "source": [
    "print(f'Gaussian kernel: Accuracy: {det_score}, time: {det_time}')\n",
    "print(f'Random kernel: Mean accuracy: {np.mean(scores)}, stdev: {np.std(scores)}, mean time: {np.mean(times)}')\n",
    "print(f'Acc. stats: Q0: {np.min(scores)}, Q1: {np.quantile(scores, 0.25)}, Q2: {np.median(scores)}, Q3: {np.quantile(scores,0.75)}, Q4: {np.max(scores)}')"
   ]
  },
  {
   "cell_type": "markdown",
   "metadata": {},
   "source": [
    "We observe that the random Fourier features kernel comes close to the deterministic Gaussian kernel in terms of accuracy ($96.75\\%$ as accurate as deterministic), but takes only about $5.9\\%$ as long. Considering the impressively low standard deviation makes this approach very useful for large datasets."
   ]
  },
  {
   "cell_type": "markdown",
   "metadata": {},
   "source": [
    "## Accuracy as a function of gamma\n",
    "\n",
    "For the remainder of the experiments, we switch to a subset of MNIST containing only $1000$ samples. This is because the large dataset is useful for timing comparisons, but makes many of the following experiments computationally intractable.\n",
    "\n",
    "First, we example the effect of varying gamma on the accuracy of the SVM, using both a deterministic and random kernel."
   ]
  },
  {
   "cell_type": "code",
   "execution_count": 6,
   "metadata": {},
   "outputs": [],
   "source": [
    "X_train, X_test, y_train, y_test = train_test_split(X, y, test_size=0.2, random_state=15)\n",
    "domain = (1/784) * np.asarray([.125,.25,.5,1,2,4,8,16,32,64,128])"
   ]
  },
  {
   "cell_type": "markdown",
   "metadata": {},
   "source": [
    "### Deterministic Gaussian kernel"
   ]
  },
  {
   "cell_type": "code",
   "execution_count": 7,
   "metadata": {
    "scrolled": true
   },
   "outputs": [
    {
     "name": "stderr",
     "output_type": "stream",
     "text": [
      "100%|██████████████████████████████████████████████████████████████████████████████████| 11/11 [00:12<00:00,  1.11s/it]\n"
     ]
    },
    {
     "data": {
      "text/plain": [
       "Text(0.5, 1.0, 'Deterministic Gaussian kernel SVM')"
      ]
     },
     "execution_count": 7,
     "metadata": {},
     "output_type": "execute_result"
    },
    {
     "data": {
      "image/png": "[encoded data removed]",
      "text/plain": [
       "<Figure size 432x288 with 1 Axes>"
      ]
     },
     "metadata": {
      "needs_background": "light"
     },
     "output_type": "display_data"
    }
   ],
   "source": [
    "scores = []\n",
    "\n",
    "for val in tqdm(domain):\n",
    "    svm = SVC(gamma=val)\n",
    "    svm.fit(X_train, y_train)\n",
    "    scores.append(svm.score(X_test, y_test))\n",
    "    \n",
    "plt.plot(domain, scores)\n",
    "plt.xlabel('$\\gamma$')\n",
    "plt.ylabel('Accuracy')\n",
    "plt.title('Deterministic Gaussian kernel SVM')"
   ]
  },
  {
   "cell_type": "markdown",
   "metadata": {},
   "source": [
    "### Random Fourier features approximation of Gaussian kernel"
   ]
  },
  {
   "cell_type": "code",
   "execution_count": 8,
   "metadata": {},
   "outputs": [],
   "source": [
    "iterations = 100\n",
    "scores = np.empty((domain.shape[0], iterations))\n",
    "    \n",
    "for i,val in enumerate(domain):\n",
    "    for j in range(iterations):\n",
    "        random_svm = SVC(kernel=generate_kernel(s=val))\n",
    "        random_svm.fit(X_train, y_train)\n",
    "        scores[i,j] = random_svm.score(X_test, y_test)\n",
    "\n",
    "stat = np.empty((7, domain.shape[0]))\n",
    "stat[0] = np.min(scores, axis=1)\n",
    "stat[1] = np.quantile(scores, 0.25, axis=1)\n",
    "stat[2] = np.median(scores, axis=1)\n",
    "stat[3] = np.quantile(scores, 0.75, axis=1)\n",
    "stat[4] = np.max(scores, axis=1)\n",
    "stat[5] = np.mean(scores, axis=1)\n",
    "stat[6] = np.std(scores, axis=1)"
   ]
  },
  {
   "cell_type": "code",
   "execution_count": 9,
   "metadata": {
    "scrolled": true
   },
   "outputs": [
    {
     "data": {
      "text/plain": [
       "Text(0.5, 1.0, \"Randomized Kernel SVM accuracy 'continuous boxplot'\")"
      ]
     },
     "execution_count": 9,
     "metadata": {},
     "output_type": "execute_result"
    },
    {
     "data": {
      "image/png": "[encoded data removed]",
      "text/plain": [
       "<Figure size 432x288 with 1 Axes>"
      ]
     },
     "metadata": {
      "needs_background": "light"
     },
     "output_type": "display_data"
    }
   ],
   "source": [
    "plt.plot(domain, stat[2], c='b', label='Median')\n",
    "plt.fill_between(domain, stat[4], stat[0], alpha=0.2, label='Range', lw=1)\n",
    "plt.fill_between(domain, stat[1], stat[3], alpha=0.5, label='IQR', lw=1)\n",
    "plt.xlabel('$\\gamma$')\n",
    "plt.ylabel('Accuracy')\n",
    "#plt.set_yscale('log')\n",
    "plt.legend(loc='upper right')\n",
    "plt.title('Randomized Kernel SVM accuracy \\'continuous boxplot\\'')"
   ]
  },
  {
   "cell_type": "markdown",
   "metadata": {},
   "source": [
    "In the randomized case, we sample $\\mathbf{w}_i \\sim N(0,2\\gamma\\mathbf{I})$ to approximate a deterministic rbf kernel with parameter $\\gamma$."
   ]
  },
  {
   "cell_type": "markdown",
   "metadata": {},
   "source": [
    "### Accuracy as a function of $m$ (number of random Fourier features sampled)"
   ]
  },
  {
   "cell_type": "code",
   "execution_count": 10,
   "metadata": {},
   "outputs": [
    {
     "data": {
      "text/plain": [
       "array([100, 200, 300, 400, 500, 600, 700])"
      ]
     },
     "execution_count": 10,
     "metadata": {},
     "output_type": "execute_result"
    }
   ],
   "source": [
    "m_domain = np.asarray([10, 50, 100, 200, 400, 750])\n",
    "np.arange(start=100, stop=800, step=100)"
   ]
  },
  {
   "cell_type": "code",
   "execution_count": 11,
   "metadata": {},
   "outputs": [],
   "source": [
    "iterations = 100\n",
    "scores = np.empty((m_domain.shape[0], iterations))\n",
    "times = np.empty((m_domain.shape[0], iterations))\n",
    "    \n",
    "for i,val in enumerate(m_domain):\n",
    "    for j in range(iterations):\n",
    "        st = perf_counter()\n",
    "        random_svm = SVC(kernel=generate_kernel(m=val))\n",
    "        random_svm.fit(X_train, y_train)\n",
    "        scores[i,j] = random_svm.score(X_test, y_test)\n",
    "        times[i,j] = perf_counter() - st\n",
    "        \n",
    "stat = np.empty((7, m_domain.shape[0]))\n",
    "stat[0] = np.min(scores, axis=1)\n",
    "stat[1] = np.quantile(scores, 0.25, axis=1)\n",
    "stat[2] = np.median(scores, axis=1)\n",
    "stat[3] = np.quantile(scores, 0.75, axis=1)\n",
    "stat[4] = np.max(scores, axis=1)\n",
    "stat[5] = np.mean(scores, axis=1)\n",
    "stat[6] = np.std(scores, axis=1)\n",
    "\n",
    "meantimes = np.mean(times, axis=1)"
   ]
  },
  {
   "cell_type": "code",
   "execution_count": 12,
   "metadata": {},
   "outputs": [],
   "source": [
    "st = perf_counter()\n",
    "det_svm = SVC(gamma='auto')\n",
    "det_svm.fit(X_train, y_train)\n",
    "det_svm.score(X_test, y_test)\n",
    "det_time = perf_counter() - st\n",
    "\n",
    "relativemeantimes = meantimes / det_time"
   ]
  },
  {
   "cell_type": "code",
   "execution_count": 13,
   "metadata": {},
   "outputs": [
    {
     "data": {
      "text/plain": [
       "Text(0.5, 1.0, 'Randomized Kernel SVM accuracy as a function of m')"
      ]
     },
     "execution_count": 13,
     "metadata": {},
     "output_type": "execute_result"
    },
    {
     "data": {
      "image/png": "[encoded data removed]",
      "text/plain": [
       "<Figure size 432x288 with 2 Axes>"
      ]
     },
     "metadata": {
      "needs_background": "light"
     },
     "output_type": "display_data"
    }
   ],
   "source": [
    "fig,ax1 = plt.subplots()\n",
    "ax2 = ax1.twinx()\n",
    "\n",
    "ax1.plot(m_domain, stat[2], c='b', label='Median accuracy')\n",
    "ax1.fill_between(m_domain, stat[4], stat[0], alpha=0.2, label='Accuracy range', lw=1)\n",
    "ax1.fill_between(m_domain, stat[1], stat[3], alpha=0.5, label='Accuracy IQR', lw=1)\n",
    "ax1.set_xlabel('m')\n",
    "ax1.set_ylabel('Accuracy')\n",
    "#plt.set_yscale('log')\n",
    "\n",
    "ax2.plot(m_domain, relativemeantimes, c='r', label='Time')\n",
    "ax2.set_ylabel('Time Relative to Deterministic')\n",
    "ax2.set_ylim(0.2,0.5)\n",
    "\n",
    "lines, labels = ax1.get_legend_handles_labels()\n",
    "lines2, labels2 = ax2.get_legend_handles_labels()\n",
    "ax2.legend(lines + lines2, labels + labels2, loc='lower right')\n",
    "\n",
    "plt.title('Randomized Kernel SVM accuracy as a function of m')"
   ]
  },
  {
   "cell_type": "markdown",
   "metadata": {},
   "source": [
    "## Randomly Approximating the Kernel over a range of parameters\n",
    "\n",
    "Refer to section $4.4$ for documentation of this method. The goal is to approximate a kernel as a random sample average over a range of parameters, useful for when the optimal parameter value is unknown but an approximate range is known. In this case, we use a _sinc_ kernel as the underlying parametric family being approximated. Letting $B$ denote the parameter of the sinc kernel, we sampled $B$ uniformly from the range $(0.5,4)$ for the following experiments."
   ]
  },
  {
   "cell_type": "markdown",
   "metadata": {},
   "source": [
    "## Experiments"
   ]
  },
  {
   "cell_type": "markdown",
   "metadata": {},
   "source": [
    "### Deterministic Gaussian Kernel with Default $\\gamma$"
   ]
  },
  {
   "cell_type": "code",
   "execution_count": 15,
   "metadata": {},
   "outputs": [],
   "source": [
    "gamma_val = 'auto'"
   ]
  },
  {
   "cell_type": "code",
   "execution_count": 16,
   "metadata": {},
   "outputs": [],
   "source": [
    "det_svm = SVC(gamma=gamma_val)\n",
    "det_svm.fit(X_train, y_train)\n",
    "det_score = det_svm.score(X_test, y_test)"
   ]
  },
  {
   "cell_type": "code",
   "execution_count": 17,
   "metadata": {},
   "outputs": [
    {
     "name": "stderr",
     "output_type": "stream",
     "text": [
      "100%|████████████████████████████████████████████████████████████████████████████████| 100/100 [01:29<00:00,  1.12it/s]\n"
     ]
    }
   ],
   "source": [
    "iterations = 100\n",
    "det_times = np.empty((iterations))\n",
    "\n",
    "for i in trange(iterations):\n",
    "    start = perf_counter()\n",
    "    det_svm = SVC(gamma=gamma_val)\n",
    "    det_svm.fit(X_train, y_train)\n",
    "    _ = det_svm.score(X_test, y_test)\n",
    "    det_times[i] = perf_counter() - start"
   ]
  },
  {
   "cell_type": "code",
   "execution_count": 18,
   "metadata": {},
   "outputs": [
    {
     "name": "stdout",
     "output_type": "stream",
     "text": [
      "Accuracy: 0.855, time: 0.8909091019999994\n"
     ]
    }
   ],
   "source": [
    "print(f'Accuracy: {det_score}, time: {np.mean(det_times)}')"
   ]
  },
  {
   "cell_type": "markdown",
   "metadata": {},
   "source": [
    "### Randomized Sinc Kernel"
   ]
  },
  {
   "cell_type": "code",
   "execution_count": 28,
   "metadata": {},
   "outputs": [],
   "source": [
    "def generate_kernel(m=350, s=1/d):\n",
    "    b = np.random.uniform(low=0, high=2*np.pi, size=(1,m))\n",
    "    std = np.sqrt(2*s)\n",
    "    W = np.random.uniform(low=-std, high=std, size=(m,d))\n",
    "    def ker(x, y):\n",
    "        z1 = np.cos(x @ W.T + b)\n",
    "        z2 = np.cos(y @ W.T + b)\n",
    "        return z1 @ z2.T / m\n",
    "    return ker"
   ]
  },
  {
   "cell_type": "code",
   "execution_count": 29,
   "metadata": {},
   "outputs": [],
   "source": [
    "iterations = 100\n",
    "scores = np.empty((domain.shape[0], iterations))\n",
    "    \n",
    "for i,val in enumerate(domain):\n",
    "    for j in range(iterations):\n",
    "        random_svm = SVC(kernel=generate_kernel(s=val))\n",
    "        random_svm.fit(X_train, y_train)\n",
    "        scores[i,j] = random_svm.score(X_test, y_test)\n",
    "\n",
    "stat = np.empty((7, domain.shape[0]))\n",
    "stat[0] = np.min(scores, axis=1)\n",
    "stat[1] = np.quantile(scores, 0.25, axis=1)\n",
    "stat[2] = np.median(scores, axis=1)\n",
    "stat[3] = np.quantile(scores, 0.75, axis=1)\n",
    "stat[4] = np.max(scores, axis=1)\n",
    "stat[5] = np.mean(scores, axis=1)\n",
    "stat[6] = np.std(scores, axis=1)"
   ]
  },
  {
   "cell_type": "code",
   "execution_count": 30,
   "metadata": {},
   "outputs": [
    {
     "data": {
      "text/plain": [
       "Text(0.5, 1.0, \"Randomized Averaged Sinc Kernel SVM accuracy 'continuous boxplot'\")"
      ]
     },
     "execution_count": 30,
     "metadata": {},
     "output_type": "execute_result"
    },
    {
     "data": {
      "image/png": "[encoded data removed]",
      "text/plain": [
       "<Figure size 432x288 with 1 Axes>"
      ]
     },
     "metadata": {
      "needs_background": "light"
     },
     "output_type": "display_data"
    }
   ],
   "source": [
    "plt.plot(domain, stat[2], c='b', label='Median')\n",
    "plt.fill_between(domain, stat[4], stat[0], alpha=0.2, label='Range', lw=1)\n",
    "plt.fill_between(domain, stat[1], stat[3], alpha=0.5, label='IQR', lw=1)\n",
    "plt.xlabel('$\\gamma$')\n",
    "plt.ylabel('Accuracy')\n",
    "#plt.set_yscale('log')\n",
    "plt.legend(loc='upper right')\n",
    "plt.title('Randomized Averaged Sinc Kernel SVM accuracy \\'continuous boxplot\\'')"
   ]
  },
  {
   "cell_type": "markdown",
   "metadata": {},
   "source": [
    "### Randomized Averaged Sinc Kernel"
   ]
  },
  {
   "cell_type": "code",
   "execution_count": 31,
   "metadata": {},
   "outputs": [],
   "source": [
    "def generate_kernel(m=100, q=10, s=1/d, scale=True):\n",
    "    q_arr = np.random.uniform(low=0.5, high=4, size=q) \n",
    "    if scale:\n",
    "        s = s/np.var(X_train)\n",
    "    std = np.sqrt(2*s)\n",
    "    W = np.random.uniform(low=-std*q_arr, high=std*q_arr, size=(m,d,q))\n",
    "    b = np.random.uniform(low=0, high=2*np.pi, size=(1,m,1))\n",
    "    \n",
    "    def ker(x, y):\n",
    "        z1 = np.cos(np.dot(x, W) + b)\n",
    "        z2 = np.cos(np.dot(y, W) + b)\n",
    "        res = np.tensordot(z1, z2, axes=([1,2],[1,2])) / (m*q)\n",
    "        return res\n",
    "    \n",
    "    return ker"
   ]
  },
  {
   "cell_type": "code",
   "execution_count": 32,
   "metadata": {
    "scrolled": true
   },
   "outputs": [
    {
     "name": "stderr",
     "output_type": "stream",
     "text": [
      "100%|████████████████████████████████████████████████████████████████████████████████| 100/100 [04:50<00:00,  2.91s/it]\n"
     ]
    }
   ],
   "source": [
    "iterations = 100\n",
    "scores = np.empty((iterations))\n",
    "times = np.empty((iterations))\n",
    "    \n",
    "\n",
    "for i in trange(iterations):\n",
    "    start = perf_counter()\n",
    "    random_svm = SVC(kernel=generate_kernel())\n",
    "    random_svm.fit(X_train, y_train)\n",
    "    scores[i] = random_svm.score(X_test, y_test)\n",
    "    times[i]= perf_counter() - start\n",
    "\n",
    "stat = np.empty(7)\n",
    "stat[0] = np.min(scores)\n",
    "stat[1] = np.quantile(scores, 0.25)\n",
    "stat[2] = np.median(scores)\n",
    "stat[3] = np.quantile(scores, 0.75)\n",
    "stat[4] = np.max(scores)\n",
    "stat[5] = np.mean(scores)\n",
    "stat[6] = np.std(scores)"
   ]
  },
  {
   "cell_type": "code",
   "execution_count": 33,
   "metadata": {
    "scrolled": true
   },
   "outputs": [
    {
     "name": "stdout",
     "output_type": "stream",
     "text": [
      "Mean accuracy: 0.8537999999999998, stdev: 0.02333580939243377, mean time: 2.9084587269999975\n",
      "Acc. stats: Q0: 0.755, Q1: 0.845, Q2: 0.855, Q3: 0.87, Q4: 0.89\n"
     ]
    }
   ],
   "source": [
    "print(f'Mean accuracy: {stat[5]}, stdev: {stat[6]}, mean time: {np.mean(times)}')\n",
    "print(f'Acc. stats: Q0: {stat[0]}, Q1: {stat[1]}, Q2: {stat[2]}, Q3: {stat[3]}, Q4: {stat[4]}')"
   ]
  },
  {
   "cell_type": "markdown",
   "metadata": {},
   "source": [
    "#### Histogram of Accuracies"
   ]
  },
  {
   "cell_type": "code",
   "execution_count": 34,
   "metadata": {
    "scrolled": false
   },
   "outputs": [
    {
     "data": {
      "image/png": "[encoded data removed]",
      "text/plain": [
       "<Figure size 432x288 with 1 Axes>"
      ]
     },
     "metadata": {
      "needs_background": "light"
     },
     "output_type": "display_data"
    }
   ],
   "source": [
    "plt.hist(scores, bins=30);"
   ]
  },
  {
   "cell_type": "markdown",
   "metadata": {},
   "source": [
    "#### Histogram of Times"
   ]
  },
  {
   "cell_type": "code",
   "execution_count": 35,
   "metadata": {
    "scrolled": true
   },
   "outputs": [
    {
     "data": {
      "image/png": "[encoded data removed]",
      "text/plain": [
       "<Figure size 432x288 with 1 Axes>"
      ]
     },
     "metadata": {
      "needs_background": "light"
     },
     "output_type": "display_data"
    }
   ],
   "source": [
    "plt.hist(times, bins=40);"
   ]
  },
  {
   "cell_type": "markdown",
   "metadata": {},
   "source": [
    "#### 2D Histogram of Accuracies, Times"
   ]
  },
  {
   "cell_type": "code",
   "execution_count": 36,
   "metadata": {},
   "outputs": [
    {
     "data": {
      "image/png": "[encoded data removed]",
      "text/plain": [
       "<Figure size 432x288 with 1 Axes>"
      ]
     },
     "metadata": {
      "needs_background": "light"
     },
     "output_type": "display_data"
    }
   ],
   "source": [
    "plt.hist2d(scores, times, bins=10, cmap='inferno');"
   ]
  },
  {
   "cell_type": "markdown",
   "metadata": {},
   "source": [
    "### 'Cheating' Randomized Method (Training on the Test Data)"
   ]
  },
  {
   "cell_type": "markdown",
   "metadata": {},
   "source": [
    "The purpose of this experiment is to see whether the model is able to recover all of the modes that it learns on."
   ]
  },
  {
   "cell_type": "code",
   "execution_count": 37,
   "metadata": {},
   "outputs": [
    {
     "name": "stderr",
     "output_type": "stream",
     "text": [
      "100%|████████████████████████████████████████████████████████████████████████████████| 100/100 [01:46<00:00,  1.07s/it]\n"
     ]
    }
   ],
   "source": [
    "iterations = 100\n",
    "cscores = np.empty((iterations))\n",
    "ctimes = np.empty((iterations))\n",
    "    \n",
    "\n",
    "for i in trange(iterations):\n",
    "    start = perf_counter()\n",
    "    crandom_svm = SVC(kernel=generate_kernel())\n",
    "    crandom_svm.fit(X_test, y_test) # caution: do not blindly copy this code.\n",
    "                                   # training on the test data is generally frowned upon.\n",
    "    cscores[i] = crandom_svm.score(X_test, y_test)\n",
    "    ctimes[i]= perf_counter() - start\n",
    "\n",
    "cstat = np.empty(7)\n",
    "cstat[0] = np.min(cscores)\n",
    "cstat[1] = np.quantile(cscores, 0.25)\n",
    "cstat[2] = np.median(cscores)\n",
    "cstat[3] = np.quantile(cscores, 0.75)\n",
    "cstat[4] = np.max(cscores)\n",
    "cstat[5] = np.mean(cscores)\n",
    "cstat[6] = np.std(cscores)"
   ]
  },
  {
   "cell_type": "code",
   "execution_count": 38,
   "metadata": {},
   "outputs": [
    {
     "name": "stdout",
     "output_type": "stream",
     "text": [
      "Mean accuracy: 0.84235, stdev: 0.03380425269104466, mean time: 1.0643574390000048\n",
      "Acc. stats: Q0: 0.755, Q1: 0.82, Q2: 0.845, Q3: 0.865, Q4: 0.915\n"
     ]
    }
   ],
   "source": [
    "print(f'Mean accuracy: {cstat[5]}, stdev: {cstat[6]}, mean time: {np.mean(ctimes)}')\n",
    "print(f'Acc. stats: Q0: {cstat[0]}, Q1: {cstat[1]}, Q2: {cstat[2]}, Q3: {cstat[3]}, Q4: {cstat[4]}')"
   ]
  },
  {
   "cell_type": "code",
   "execution_count": 39,
   "metadata": {},
   "outputs": [
    {
     "data": {
      "image/png": "[encoded data removed]",
      "text/plain": [
       "<Figure size 432x288 with 1 Axes>"
      ]
     },
     "metadata": {
      "needs_background": "light"
     },
     "output_type": "display_data"
    }
   ],
   "source": [
    "plt.hist(cscores, bins=20);"
   ]
  },
  {
   "cell_type": "code",
   "execution_count": 40,
   "metadata": {},
   "outputs": [
    {
     "data": {
      "image/png": "[encoded data removed]",
      "text/plain": [
       "<Figure size 432x288 with 1 Axes>"
      ]
     },
     "metadata": {
      "needs_background": "light"
     },
     "output_type": "display_data"
    }
   ],
   "source": [
    "plt.hist(ctimes, bins=30);"
   ]
  },
  {
   "cell_type": "code",
   "execution_count": 41,
   "metadata": {
    "scrolled": true
   },
   "outputs": [
    {
     "data": {
      "image/png": "[encoded data removed]",
      "text/plain": [
       "<Figure size 432x288 with 1 Axes>"
      ]
     },
     "metadata": {
      "needs_background": "light"
     },
     "output_type": "display_data"
    }
   ],
   "source": [
    "plt.hist2d(cscores, ctimes, bins=10, cmap='inferno');"
   ]
  }
 ],
 "metadata": {
  "kernelspec": {
   "display_name": "Python 3",
   "language": "python",
   "name": "python3"
  },
  "language_info": {
   "codemirror_mode": {
    "name": "ipython",
    "version": 3
   },
   "file_extension": ".py",
   "mimetype": "text/x-python",
   "name": "python",
   "nbconvert_exporter": "python",
   "pygments_lexer": "ipython3",
   "version": "3.7.4"
  }
 },
 "nbformat": 4,
 "nbformat_minor": 2
}
