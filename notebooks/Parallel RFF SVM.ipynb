{
 "cells": [
  {
   "cell_type": "code",
   "execution_count": 1,
   "metadata": {},
   "outputs": [],
   "source": [
    "import numpy as np\n",
    "from sklearn.decomposition import KernelPCA\n",
    "import matplotlib.pyplot as plt\n",
    "from time import perf_counter\n",
    "import pandas as pd\n",
    "from mpl_toolkits.mplot3d import Axes3D\n",
    "from tqdm import tqdm, trange\n",
    "# from tqdm.notebook import tqdm\n",
    "import multivariatet as mt\n",
    "from sklearn.model_selection import train_test_split\n",
    "from sklearn.svm import SVC\n",
    "\n",
    "%matplotlib inline"
   ]
  },
  {
   "cell_type": "markdown",
   "metadata": {},
   "source": [
    "## read in data"
   ]
  },
  {
   "cell_type": "code",
   "execution_count": 2,
   "metadata": {},
   "outputs": [],
   "source": [
    "mnist = pd.read_csv('../datasets/mnist/train.csv')\n",
    "\n",
    "full_X = mnist[mnist.columns[1:]].values / 255\n",
    "full_y = mnist.label.values\n",
    "\n",
    "X = full_X[:1000]\n",
    "y = full_y[:1000]\n",
    "\n",
    "n,d = X.shape\n",
    "\n",
    "X_train, X_test, y_train, y_test = train_test_split(X, y, test_size=0.2, random_state=15)"
   ]
  },
  {
   "cell_type": "markdown",
   "metadata": {},
   "source": [
    "## kernel generation functions"
   ]
  },
  {
   "cell_type": "code",
   "execution_count": 66,
   "metadata": {},
   "outputs": [],
   "source": [
    "\n",
    "    \n",
    "def generate_kernel(m=220, s=1/d):\n",
    "    b = np.random.uniform(low=0, high=2*np.pi, size=(1,m))\n",
    "    W = np.random.multivariate_normal(mean=np.zeros(d), cov=2*s*np.eye(d), size=m) # m x d\n",
    "    def ker(x, y):\n",
    "        z1 = np.cos(x @ W.T + b)\n",
    "        z2 = np.cos(y @ W.T + b)\n",
    "        return z1 @ z2.T / m\n",
    "    return ker"
   ]
  },
  {
   "cell_type": "code",
   "execution_count": 4,
   "metadata": {},
   "outputs": [],
   "source": [
    "import torch"
   ]
  },
  {
   "cell_type": "markdown",
   "metadata": {},
   "source": [
    "## Parallel"
   ]
  },
  {
   "cell_type": "code",
   "execution_count": 67,
   "metadata": {
    "scrolled": false
   },
   "outputs": [
    {
     "name": "stdout",
     "output_type": "stream",
     "text": [
      "(99, 200, 800)\n",
      "18.001125499999944 0.5822069999999258\n",
      "[0.11  0.125 0.215 0.395 0.545 0.605 0.62  0.695 0.7   0.735 0.755 0.78\n",
      " 0.785 0.79  0.82  0.845 0.825 0.81  0.815 0.84  0.805 0.83  0.83  0.835\n",
      " 0.815 0.845 0.79  0.845 0.825 0.835 0.81  0.84  0.855 0.82  0.85  0.835\n",
      " 0.825 0.8   0.83  0.855 0.815 0.865 0.835 0.87  0.85  0.83  0.83  0.84\n",
      " 0.845 0.83  0.84  0.82  0.825 0.85  0.85  0.855 0.84  0.825 0.845 0.83\n",
      " 0.86  0.855 0.83  0.83  0.815 0.83  0.845 0.83  0.845 0.855 0.845 0.84\n",
      " 0.83  0.835 0.84  0.82  0.85  0.835 0.855 0.815 0.82  0.815 0.84  0.83\n",
      " 0.86  0.83  0.86  0.835 0.8   0.85  0.835 0.835 0.81  0.805 0.8   0.825\n",
      " 0.84  0.815 0.825]\n"
     ]
    }
   ],
   "source": [
    "parameters = (1/784) * np.arange(0.1,10,0.1)#range(0.1,0.3,0.1)\n",
    "m = 220\n",
    "\n",
    "# X_train is train_batch x d\n",
    "# X_test is test_batch x d\n",
    "\n",
    "start = perf_counter()\n",
    "\n",
    "n_param = parameters.shape[0]\n",
    "\n",
    "# m x d x n_param\n",
    "W = np.random.multivariate_normal(mean=np.zeros(d), cov=2*np.eye(d), size=(n_param, m)).transpose(1,2,0) * np.sqrt(parameters)\n",
    "\n",
    "# n_param x m x 1\n",
    "b = np.random.uniform(low=0, high=2*np.pi, size=(n_param,m,1))\n",
    "\n",
    "# Wtranspose below is n_param x m x d, X_train.T is d x train_batch, their product is n_param x m x train_batch\n",
    "\n",
    "placeholder = np.cos(np.dot(W.transpose(2,0,1), X_train.T) + b) # n_param x m x train_batch\n",
    "\n",
    "z11 = torch.from_numpy(placeholder.transpose(0,2,1)) # n_param x train_batch x m\n",
    "z2 = torch.from_numpy(placeholder.transpose(0,1,2)) # n_param x m x train_batch\n",
    "\n",
    "z12 = torch.from_numpy(np.cos(np.dot(W.transpose(2,0,1), X_test.T) + b).transpose(0,2,1)) # n_param x test_batch x m\n",
    "\n",
    "out1 = (1/m) * np.asarray(torch.bmm(z11, z2)) # n_param x train_batch x train_batch\n",
    "out2 = (1/m) * np.asarray(torch.bmm(z12, z2)) # n_param x test_batch x train_batch\n",
    "\n",
    "results = np.empty(n_param)\n",
    "\n",
    "for i in range(n_param):\n",
    "    svm = SVC(kernel='precomputed')\n",
    "    svm.fit(out1[i], y_train)\n",
    "    results[i] = svm.score(out2[i], y_test)\n",
    "\n",
    "totaltime = perf_counter() - start\n",
    "\n",
    "print(totaltime, rngtime)\n",
    "print(results)"
   ]
  },
  {
   "cell_type": "markdown",
   "metadata": {},
   "source": [
    "## Loop random"
   ]
  },
  {
   "cell_type": "code",
   "execution_count": 68,
   "metadata": {},
   "outputs": [
    {
     "name": "stdout",
     "output_type": "stream",
     "text": [
      "43.89197130000002\n",
      "[0.11  0.13  0.265 0.29  0.485 0.61  0.67  0.645 0.725 0.755 0.77  0.755\n",
      " 0.75  0.78  0.805 0.78  0.825 0.795 0.825 0.79  0.8   0.815 0.845 0.84\n",
      " 0.805 0.815 0.81  0.795 0.85  0.825 0.81  0.82  0.815 0.83  0.84  0.86\n",
      " 0.855 0.81  0.84  0.835 0.83  0.82  0.83  0.815 0.84  0.845 0.83  0.86\n",
      " 0.855 0.855 0.84  0.84  0.82  0.835 0.84  0.845 0.875 0.8   0.845 0.84\n",
      " 0.84  0.845 0.81  0.865 0.845 0.84  0.86  0.84  0.86  0.82  0.83  0.815\n",
      " 0.81  0.825 0.835 0.855 0.83  0.865 0.81  0.86  0.845 0.85  0.865 0.835\n",
      " 0.845 0.84  0.81  0.85  0.84  0.83  0.86  0.83  0.845 0.83  0.865 0.805\n",
      " 0.835 0.835 0.82 ]\n"
     ]
    }
   ],
   "source": [
    "st = perf_counter()\n",
    "\n",
    "values = np.empty(parameters.shape[0])\n",
    "for i,val in enumerate(parameters):\n",
    "    svm = SVC(kernel=generate_kernel(s=val))\n",
    "    svm.fit(X_train, y_train)\n",
    "    values[i] = svm.score(X_test, y_test)\n",
    "\n",
    "print(perf_counter() - st)\n",
    "print(values)"
   ]
  },
  {
   "cell_type": "markdown",
   "metadata": {},
   "source": [
    "## Loop det"
   ]
  },
  {
   "cell_type": "code",
   "execution_count": 69,
   "metadata": {},
   "outputs": [
    {
     "name": "stdout",
     "output_type": "stream",
     "text": [
      "79.79559129999961\n",
      "[0.135 0.38  0.63  0.71  0.78  0.82  0.83  0.85  0.85  0.855 0.86  0.86\n",
      " 0.86  0.865 0.865 0.865 0.87  0.87  0.87  0.865 0.865 0.865 0.865 0.865\n",
      " 0.86  0.86  0.865 0.865 0.865 0.865 0.86  0.86  0.865 0.87  0.875 0.875\n",
      " 0.88  0.88  0.88  0.88  0.88  0.88  0.88  0.88  0.89  0.89  0.895 0.895\n",
      " 0.895 0.895 0.9   0.9   0.905 0.905 0.905 0.905 0.905 0.905 0.905 0.905\n",
      " 0.905 0.905 0.905 0.905 0.905 0.91  0.91  0.91  0.91  0.91  0.905 0.905\n",
      " 0.905 0.9   0.9   0.9   0.9   0.9   0.9   0.9   0.9   0.9   0.9   0.9\n",
      " 0.9   0.9   0.9   0.9   0.9   0.9   0.9   0.9   0.9   0.9   0.9   0.905\n",
      " 0.905 0.905 0.905]\n"
     ]
    }
   ],
   "source": [
    "st = perf_counter()\n",
    "\n",
    "values = np.empty(parameters.shape[0])\n",
    "for i,val in enumerate(parameters):\n",
    "    svm = SVC(gamma=val)\n",
    "    svm.fit(X_train, y_train)\n",
    "    values[i] = svm.score(X_test, y_test)\n",
    "\n",
    "print(perf_counter() - st)\n",
    "print(values)"
   ]
  },
  {
   "cell_type": "code",
   "execution_count": 98,
   "metadata": {
    "scrolled": false
   },
   "outputs": [
    {
     "name": "stderr",
     "output_type": "stream",
     "text": [
      "C:\\Users\\Sean\\Anaconda3\\lib\\site-packages\\sklearn\\model_selection\\_search.py:814: DeprecationWarning: The default of the `iid` parameter will change from True to False in version 0.22 and will be removed in 0.24. This will change numeric results when test-set sizes are unequal.\n",
      "  DeprecationWarning)\n"
     ]
    },
    {
     "name": "stdout",
     "output_type": "stream",
     "text": [
      "133.02951949999988\n",
      "[0.1275  0.21375 0.34125 0.5375  0.65625 0.725   0.7475  0.76625 0.7825\n",
      " 0.795   0.79875 0.81    0.815   0.81625 0.82375 0.83    0.8275  0.83125\n",
      " 0.8375  0.84375 0.84125 0.8425  0.8475  0.84625 0.85    0.84875 0.8475\n",
      " 0.85    0.85375 0.855   0.85625 0.85625 0.8575  0.8575  0.8575  0.85875\n",
      " 0.85875 0.85875 0.86    0.85875 0.85875 0.85875 0.86125 0.86125 0.86125\n",
      " 0.8625  0.8625  0.8625  0.865   0.86625 0.865   0.865   0.86625 0.8675\n",
      " 0.8675  0.86875 0.87    0.87125 0.87125 0.87125 0.87125 0.87    0.87\n",
      " 0.87    0.87125 0.87125 0.87375 0.87375 0.875   0.87625 0.87625 0.87625\n",
      " 0.8775  0.8775  0.8775  0.8775  0.8775  0.8775  0.87875 0.87875 0.87875\n",
      " 0.87875 0.87875 0.88    0.88    0.88125 0.88125 0.88125 0.88125 0.88125\n",
      " 0.88125 0.88125 0.88125 0.88125 0.88125 0.88125 0.88125 0.88125 0.88125]\n"
     ]
    }
   ],
   "source": [
    "from sklearn.model_selection import GridSearchCV\n",
    "\n",
    "start = perf_counter()\n",
    "\n",
    "params = {'gamma': parameters}\n",
    "svc = SVC(kernel='rbf')\n",
    "clf = GridSearchCV(svc, params, cv=3)\n",
    "clf.fit(X_train, y_train)\n",
    "\n",
    "print(perf_counter() - start)\n",
    "print(clf.cv_results_['mean_test_score'])\n"
   ]
  },
  {
   "cell_type": "markdown",
   "metadata": {},
   "source": [
    "## Cross-val, random fourier features, computation in parallel"
   ]
  },
  {
   "cell_type": "code",
   "execution_count": 99,
   "metadata": {},
   "outputs": [
    {
     "name": "stdout",
     "output_type": "stream",
     "text": [
      "41.17694929999925\n",
      "[0.12399673 0.13094118 0.20887498 0.33409173 0.38597504 0.48778988\n",
      " 0.55303169 0.61608482 0.66591983 0.69713728 0.73801826 0.72502574\n",
      " 0.72416882 0.73909789 0.77107078 0.76001744 0.77706208 0.78512714\n",
      " 0.77604004 0.77814721 0.78011004 0.78510059 0.78604192 0.80707793\n",
      " 0.80608587 0.79412486 0.79803868 0.79515583 0.79007879 0.80805528\n",
      " 0.80608009 0.80407204 0.80112293 0.81407654 0.7981081  0.82711402\n",
      " 0.82611879 0.80600227 0.81203852 0.80208159 0.80511827 0.80905628\n",
      " 0.82000789 0.80112582 0.81121446 0.81306344 0.8160817  0.8270454\n",
      " 0.79811415 0.8259934  0.81407338 0.82112245 0.81814049 0.8290261\n",
      " 0.81808948 0.80905339 0.83299752 0.83208327 0.83610542 0.81805662\n",
      " 0.82205169 0.82607383 0.83700152 0.82207299 0.80605643 0.81107327\n",
      " 0.82409025 0.8239254  0.82107777 0.82215108 0.83103442 0.83611147\n",
      " 0.80510274 0.82509125 0.82203119 0.82810319 0.8111064  0.83207722\n",
      " 0.83710642 0.82311868 0.8260231  0.81205323 0.83203858 0.81808975\n",
      " 0.81904002 0.83714217 0.81308448 0.81906945 0.84106312 0.8260983\n",
      " 0.80607431 0.83711852 0.81212211 0.84405086 0.82107488 0.81610562\n",
      " 0.81599521 0.82005916 0.83808955]\n"
     ]
    }
   ],
   "source": [
    "from sklearn.model_selection import StratifiedKFold\n",
    "\n",
    "\n",
    "# X_train is train_batch x d\n",
    "# X_test is test_batch x d\n",
    "\n",
    "n_cv = 3\n",
    "\n",
    "scores = np.empty((n_cv,n_param))\n",
    "\n",
    "start = perf_counter()\n",
    "\n",
    "skf = StratifiedKFold(n_splits = n_cv)\n",
    "for i,(train_index, test_index) in enumerate(skf.split(X,y)):\n",
    "    X_tr, X_te = X[train_index], X[test_index]\n",
    "    y_tr, y_te = y[train_index], y[test_index]\n",
    "    \n",
    "    # m x d x n_param\n",
    "    W = np.random.multivariate_normal(mean=np.zeros(d), cov=2*np.eye(d), size=(n_param, m)).transpose(1,2,0) * np.sqrt(parameters)\n",
    "\n",
    "    # n_param x m x 1\n",
    "    b = np.random.uniform(low=0, high=2*np.pi, size=(n_param,m,1))\n",
    "\n",
    "    # Wtranspose below is n_param x m x d, X_train.T is d x train_batch, their product is n_param x m x train_batch\n",
    "\n",
    "    placeholder = np.cos(np.dot(W.transpose(2,0,1), X_tr.T) + b) # n_param x m x train_batch\n",
    "\n",
    "    z11 = torch.from_numpy(placeholder.transpose(0,2,1)) # n_param x train_batch x m\n",
    "    z2 = torch.from_numpy(placeholder.transpose(0,1,2)) # n_param x m x train_batch\n",
    "\n",
    "    z12 = torch.from_numpy(np.cos(np.dot(W.transpose(2,0,1), X_te.T) + b).transpose(0,2,1)) # n_param x test_batch x m\n",
    "\n",
    "    out1 = (1/m) * np.asarray(torch.bmm(z11, z2)) # n_param x train_batch x train_batch\n",
    "    out2 = (1/m) * np.asarray(torch.bmm(z12, z2)) # n_param x test_batch x train_batch\n",
    "\n",
    "    for j in range(n_param):\n",
    "        svm = SVC(kernel='precomputed')\n",
    "        svm.fit(out1[j], y_tr)\n",
    "        scores[i,j] = svm.score(out2[j], y_te)\n",
    "\n",
    "totaltime = perf_counter() - start\n",
    "\n",
    "print(totaltime)\n",
    "print(np.mean(scores, axis=0))"
   ]
  },
  {
   "cell_type": "code",
   "execution_count": 100,
   "metadata": {},
   "outputs": [],
   "source": [
    "randmeans = np.mean(scores,axis=0)\n",
    "detmeans = clf.cv_results_['mean_test_score']"
   ]
  },
  {
   "cell_type": "code",
   "execution_count": 101,
   "metadata": {},
   "outputs": [
    {
     "data": {
      "text/plain": [
       "0.08789816078818842"
      ]
     },
     "execution_count": 101,
     "metadata": {},
     "output_type": "execute_result"
    }
   ],
   "source": [
    "#Error of results\n",
    "np.linalg.norm(randmeans-detmeans) / np.linalg.norm(detmeans)"
   ]
  },
  {
   "cell_type": "code",
   "execution_count": 107,
   "metadata": {},
   "outputs": [
    {
     "name": "stdout",
     "output_type": "stream",
     "text": [
      "0\n"
     ]
    }
   ],
   "source": [
    "#Check where random is maximized, and identify the order of that index in detmeans\n",
    "\n",
    "random_max_idx = np.argmax(randmeans)\n",
    "\n",
    "det_val_for_best_rand = detmeans[random_max_idx]\n",
    "\n",
    "sorted_det = np.sort(detmeans)[::-1]\n",
    "\n",
    "rank = np.where(sorted_det == det_val_for_best_rand)[0][0]\n",
    "\n",
    "print(rank)"
   ]
  },
  {
   "cell_type": "code",
   "execution_count": 103,
   "metadata": {},
   "outputs": [
    {
     "data": {
      "text/plain": [
       "array([0.1275 , 0.21375, 0.34125, 0.5375 , 0.65625, 0.725  , 0.7475 ,\n",
       "       0.76625, 0.7825 , 0.795  , 0.79875, 0.81   , 0.815  , 0.81625,\n",
       "       0.82375, 0.8275 , 0.83   , 0.83125, 0.8375 , 0.84125, 0.8425 ,\n",
       "       0.84375, 0.84625, 0.8475 , 0.8475 , 0.84875, 0.85   , 0.85   ,\n",
       "       0.85375, 0.855  , 0.85625, 0.85625, 0.8575 , 0.8575 , 0.8575 ,\n",
       "       0.85875, 0.85875, 0.85875, 0.85875, 0.85875, 0.85875, 0.86   ,\n",
       "       0.86125, 0.86125, 0.86125, 0.8625 , 0.8625 , 0.8625 , 0.865  ,\n",
       "       0.865  , 0.865  , 0.86625, 0.86625, 0.8675 , 0.8675 , 0.86875,\n",
       "       0.87   , 0.87   , 0.87   , 0.87   , 0.87125, 0.87125, 0.87125,\n",
       "       0.87125, 0.87125, 0.87125, 0.87375, 0.87375, 0.875  , 0.87625,\n",
       "       0.87625, 0.87625, 0.8775 , 0.8775 , 0.8775 , 0.8775 , 0.8775 ,\n",
       "       0.8775 , 0.87875, 0.87875, 0.87875, 0.87875, 0.87875, 0.88   ,\n",
       "       0.88   , 0.88125, 0.88125, 0.88125, 0.88125, 0.88125, 0.88125,\n",
       "       0.88125, 0.88125, 0.88125, 0.88125, 0.88125, 0.88125, 0.88125,\n",
       "       0.88125])"
      ]
     },
     "execution_count": 103,
     "metadata": {},
     "output_type": "execute_result"
    }
   ],
   "source": [
    "sorted_det"
   ]
  },
  {
   "cell_type": "markdown",
   "metadata": {},
   "source": [
    "## Cross-val, random fourier features, computation with loops"
   ]
  },
  {
   "cell_type": "code",
   "execution_count": 113,
   "metadata": {},
   "outputs": [
    {
     "name": "stdout",
     "output_type": "stream",
     "text": [
      "78.97071219999998\n",
      "[0.12399673 0.12399673 0.23300472 0.31283536 0.42793692 0.48690876\n",
      " 0.57297967 0.62105408 0.6592575  0.6891114  0.71908572 0.7380698\n",
      " 0.75802121 0.7590038  0.76205862 0.77306096 0.78703056 0.7709267\n",
      " 0.7731748  0.78908356 0.79296479 0.77905803 0.79309046 0.80299927\n",
      " 0.78102401 0.80302608 0.80711711 0.78407802 0.80009223 0.79905467\n",
      " 0.79413669 0.81310867 0.79707397 0.78706342 0.80402157 0.80913121\n",
      " 0.80507909 0.81915042 0.82507888 0.82413467 0.80711079 0.8250518\n",
      " 0.81715763 0.80504911 0.81505046 0.81607854 0.80905339 0.82008597\n",
      " 0.83604575 0.82700596 0.82905634 0.80200982 0.82016379 0.82697363\n",
      " 0.82704225 0.81705535 0.82605912 0.82413494 0.81802087 0.83005103\n",
      " 0.82109853 0.8100812  0.81406444 0.84602894 0.82907106 0.8030834\n",
      " 0.82613089 0.82605045 0.82604386 0.81807188 0.82308266 0.82510281\n",
      " 0.83899458 0.80912254 0.81708243 0.83306929 0.81605778 0.82306505\n",
      " 0.8190847  0.80411726 0.83108281 0.81409757 0.82917018 0.82198308\n",
      " 0.80293959 0.83207722 0.81209295 0.83007838 0.81917462 0.81905211\n",
      " 0.81819465 0.82109013 0.81301586 0.81705851 0.83318917 0.83606046\n",
      " 0.81504468 0.82194732 0.82215713]\n"
     ]
    }
   ],
   "source": [
    "# X_train is train_batch x d\n",
    "# X_test is test_batch x d\n",
    "\n",
    "n_cv = 3\n",
    "\n",
    "scores_cv_rnd_np = np.empty((n_cv,n_param))\n",
    "\n",
    "start = perf_counter()\n",
    "\n",
    "skf = StratifiedKFold(n_splits = n_cv)\n",
    "for i,(train_index, test_index) in enumerate(skf.split(X,y)):\n",
    "    X_tr, X_te = X[train_index], X[test_index]\n",
    "    y_tr, y_te = y[train_index], y[test_index]\n",
    "    \n",
    "    for j,val in enumerate(parameters):\n",
    "        svm = SVC(kernel=generate_kernel(s=val))\n",
    "        svm.fit(X_tr, y_tr)\n",
    "        scores_cv_rnd_np[i,j] = svm.score(X_te, y_te)\n",
    "\n",
    "\n",
    "totaltime = perf_counter() - start\n",
    "\n",
    "print(totaltime)\n",
    "print(np.mean(scores_cv_rnd_np, axis=0))"
   ]
  },
  {
   "cell_type": "markdown",
   "metadata": {},
   "source": [
    "## Cross-val, deterministic gaussian, parallel"
   ]
  },
  {
   "cell_type": "code",
   "execution_count": null,
   "metadata": {},
   "outputs": [],
   "source": [
    "# X_train is train_batch x d\n",
    "# X_test is test_batch x d\n",
    "\n",
    "n_cv = 3\n",
    "\n",
    "scores = np.empty((n_cv,n_param))\n",
    "\n",
    "start = perf_counter()\n",
    "\n",
    "skf = StratifiedKFold(n_splits = n_cv)\n",
    "for i,(train_index, test_index) in enumerate(skf.split(X,y)):\n",
    "    X_tr, X_te = X[train_index], X[test_index]\n",
    "    y_tr, y_te = y[train_index], y[test_index]\n",
    "    \n",
    "    # m x d x n_param\n",
    "    W = np.random.multivariate_normal(mean=np.zeros(d), cov=2*np.eye(d), size=(n_param, m)).transpose(1,2,0) * np.sqrt(parameters)\n",
    "\n",
    "    # n_param x m x 1\n",
    "    b = np.random.uniform(low=0, high=2*np.pi, size=(n_param,m,1))\n",
    "\n",
    "    # Wtranspose below is n_param x m x d, X_train.T is d x train_batch, their product is n_param x m x train_batch\n",
    "\n",
    "    placeholder = np.cos(np.dot(W.transpose(2,0,1), X_tr.T) + b) # n_param x m x train_batch\n",
    "\n",
    "    z11 = torch.from_numpy(placeholder.transpose(0,2,1)) # n_param x train_batch x m\n",
    "    z2 = torch.from_numpy(placeholder.transpose(0,1,2)) # n_param x m x train_batch\n",
    "\n",
    "    z12 = torch.from_numpy(np.cos(np.dot(W.transpose(2,0,1), X_te.T) + b).transpose(0,2,1)) # n_param x test_batch x m\n",
    "\n",
    "    out1 = (1/m) * np.asarray(torch.bmm(z11, z2)) # n_param x train_batch x train_batch\n",
    "    out2 = (1/m) * np.asarray(torch.bmm(z12, z2)) # n_param x test_batch x train_batch\n",
    "\n",
    "    for j in range(n_param):\n",
    "        svm = SVC(kernel='precomputed')\n",
    "        svm.fit(out1[j], y_tr)\n",
    "        scores[i,j] = svm.score(out2[j], y_te)\n",
    "\n",
    "totaltime = perf_counter() - start\n",
    "\n",
    "print(totaltime)\n",
    "print(np.mean(scores, axis=0))"
   ]
  }
 ],
 "metadata": {
  "kernelspec": {
   "display_name": "Python 3",
   "language": "python",
   "name": "python3"
  },
  "language_info": {
   "codemirror_mode": {
    "name": "ipython",
    "version": 3
   },
   "file_extension": ".py",
   "mimetype": "text/x-python",
   "name": "python",
   "nbconvert_exporter": "python",
   "pygments_lexer": "ipython3",
   "version": "3.7.4"
  }
 },
 "nbformat": 4,
 "nbformat_minor": 2
}
