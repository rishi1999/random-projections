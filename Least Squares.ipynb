{
 "cells": [
  {
   "cell_type": "code",
   "execution_count": 18,
   "metadata": {},
   "outputs": [],
   "source": [
    "import numpy as np\n",
    "from numpy import random"
   ]
  },
  {
   "cell_type": "code",
   "execution_count": 25,
   "metadata": {},
   "outputs": [],
   "source": [
    "A = np.random.randint(1,20,size=(5,2))\n",
    "b = np.random.randint(1,20,size=(5,1))"
   ]
  },
  {
   "cell_type": "code",
   "execution_count": 26,
   "metadata": {},
   "outputs": [],
   "source": [
    "q,r = np.linalg.qr(A)\n",
    "qt = np.transpose(q)\n",
    "c = qt @ b"
   ]
  },
  {
   "cell_type": "code",
   "execution_count": 27,
   "metadata": {},
   "outputs": [],
   "source": [
    "rinv = np.linalg.inv(r)\n",
    "xls = rinv @ c"
   ]
  },
  {
   "cell_type": "code",
   "execution_count": 28,
   "metadata": {},
   "outputs": [
    {
     "name": "stdout",
     "output_type": "stream",
     "text": [
      "Ax* =  [[ 8.02096584]\n",
      " [12.65755791]\n",
      " [ 7.31024735]\n",
      " [ 7.68252846]\n",
      " [12.01452689]] \n",
      " b =  [[13]\n",
      " [12]\n",
      " [ 3]\n",
      " [ 3]\n",
      " [15]]\n"
     ]
    }
   ],
   "source": [
    "\n",
    "print(\"Ax* = \",A@xls,\"\\n b = \",b)"
   ]
  },
  {
   "cell_type": "code",
   "execution_count": null,
   "metadata": {},
   "outputs": [],
   "source": []
  }
 ],
 "metadata": {
  "kernelspec": {
   "display_name": "Python 3",
   "language": "python",
   "name": "python3"
  },
  "language_info": {
   "codemirror_mode": {
    "name": "ipython",
    "version": 3
   },
   "file_extension": ".py",
   "mimetype": "text/x-python",
   "name": "python",
   "nbconvert_exporter": "python",
   "pygments_lexer": "ipython3",
   "version": "3.7.6"
  }
 },
 "nbformat": 4,
 "nbformat_minor": 4
}
