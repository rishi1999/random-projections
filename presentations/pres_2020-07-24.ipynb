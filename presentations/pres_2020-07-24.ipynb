{
 "cells": [
  {
   "cell_type": "markdown",
   "metadata": {},
   "source": [
    "# Random Projections\n",
    "\n",
    "### Rishi Advani, Madison Crim, Sean O'Hagan\n",
    "\n",
    "#### July 24, 2020"
   ]
  },
  {
   "cell_type": "code",
   "execution_count": 1,
   "metadata": {},
   "outputs": [],
   "source": [
    "import numpy as np\n",
    "import pandas as pd\n",
    "import matplotlib.pyplot as plt\n",
    "from time import perf_counter\n",
    "from tqdm import tqdm, trange"
   ]
  },
  {
   "cell_type": "code",
   "execution_count": 2,
   "metadata": {},
   "outputs": [],
   "source": [
    "%matplotlib inline"
   ]
  },
  {
   "cell_type": "markdown",
   "metadata": {},
   "source": [
    "## Kernel PCA"
   ]
  },
  {
   "cell_type": "code",
   "execution_count": 3,
   "metadata": {},
   "outputs": [],
   "source": [
    "from sklearn.decomposition import KernelPCA\n",
    "# from mpl_toolkits.mplot3d import Axes3D"
   ]
  },
  {
   "cell_type": "code",
   "execution_count": 4,
   "metadata": {},
   "outputs": [],
   "source": [
    "# TODO"
   ]
  },
  {
   "cell_type": "markdown",
   "metadata": {},
   "source": [
    "## Kernel SVM"
   ]
  },
  {
   "cell_type": "markdown",
   "metadata": {},
   "source": [
    "In Kernel PCA, we are trying to cluster the data and visualize it better. Now, we are going to use the Support Vector Machine (SVM) structure to explicitly classify the data."
   ]
  },
  {
   "cell_type": "code",
   "execution_count": 5,
   "metadata": {},
   "outputs": [],
   "source": [
    "from sklearn.svm import SVC"
   ]
  },
  {
   "cell_type": "markdown",
   "metadata": {},
   "source": [
    "For this presentation, we will use the standard MNIST dataset, but we have confirmed our results on various other datasets as well (e.g., Fashion-MNIST, frequency statistics from a voice dataset)."
   ]
  },
  {
   "cell_type": "markdown",
   "metadata": {},
   "source": [
    "Our goal is to create a classifier that learns how to 'read' hand-written digits. We will evaluate the model by giving it more samples of hand-written digits and evaluate whether it is able to correctly identify the digit from the drawing."
   ]
  },
  {
   "cell_type": "markdown",
   "metadata": {},
   "source": [
    "### read in data"
   ]
  },
  {
   "cell_type": "code",
   "execution_count": null,
   "metadata": {},
   "outputs": [],
   "source": [
    "from sklearn.model_selection import train_test_split"
   ]
  },
  {
   "cell_type": "code",
   "execution_count": 6,
   "metadata": {},
   "outputs": [],
   "source": [
    "mnist = pd.read_csv('../datasets/mnist/train.csv')\n",
    "\n",
    "full_X = mnist[mnist.columns[1:]].values / 255\n",
    "full_y = mnist.label.values\n",
    "\n",
    "X = full_X[:1000]\n",
    "y = full_y[:1000]\n",
    "\n",
    "n,d = X.shape\n",
    "\n",
    "X_train, X_test, y_train, y_test = train_test_split(X, y, test_size=0.2, random_state=15)"
   ]
  },
  {
   "cell_type": "markdown",
   "metadata": {},
   "source": [
    "### define kernel"
   ]
  },
  {
   "cell_type": "markdown",
   "metadata": {},
   "source": [
    "Just like in Kernel PCA, we use a kernel matrix to allow us to make data separable in a higher dimension."
   ]
  },
  {
   "cell_type": "code",
   "execution_count": 7,
   "metadata": {},
   "outputs": [],
   "source": [
    "def generate_kernel(m=40, q=10, s=1/d, scale=True):\n",
    "    q_arr = np.random.uniform(low=0.5, high=4, size=q) # multipliers for size of domain of inner uniform distribution\n",
    "\n",
    "    if scale:\n",
    "        s = s/np.var(X_train)\n",
    "    std = np.sqrt(2*s)\n",
    "    \n",
    "    W = np.random.uniform(low=-std*q_arr, high=std*q_arr, size=(m,d,q))\n",
    "    b = np.random.uniform(low=0, high=2*np.pi, size=(1,m,1))\n",
    "    \n",
    "    def ker(x, y):\n",
    "        z1 = np.cos(np.dot(x, W) + b)\n",
    "        z2 = np.cos(np.dot(y, W) + b)\n",
    "        res = np.tensordot(z1, z2, axes=([1,2],[1,2])) / (m*q)\n",
    "        return res\n",
    "    \n",
    "    return ker"
   ]
  },
  {
   "cell_type": "markdown",
   "metadata": {},
   "source": [
    "### experiments"
   ]
  },
  {
   "cell_type": "markdown",
   "metadata": {},
   "source": [
    "We will now use 2 distinct methods to classify the data. One is the default deterministic version of SVM provided by the scikit-learn module. The other is a randomized algorithm that we adapted from a paper by Lopez-Paz, et al. and then modified slightly in an attempt to make it more robust."
   ]
  },
  {
   "cell_type": "markdown",
   "metadata": {},
   "source": [
    "#### deterministic SVM"
   ]
  },
  {
   "cell_type": "code",
   "execution_count": 11,
   "metadata": {},
   "outputs": [],
   "source": [
    "det_svm = SVC()\n",
    "det_svm.fit(X_train, y_train)\n",
    "det_score = det_svm.score(X_test, y_test)"
   ]
  },
  {
   "cell_type": "code",
   "execution_count": 12,
   "metadata": {},
   "outputs": [
    {
     "name": "stderr",
     "output_type": "stream",
     "text": [
      "100%|██████████| 40/40 [00:26<00:00,  1.50it/s]\n"
     ]
    }
   ],
   "source": [
    "iterations = 40\n",
    "det_times = np.empty((iterations))\n",
    "\n",
    "for i in trange(iterations):\n",
    "    start = perf_counter()\n",
    "    det_svm = SVC()\n",
    "    det_svm.fit(X_train, y_train)\n",
    "    _ = det_svm.score(X_test, y_test)\n",
    "    det_times[i] = perf_counter() - start"
   ]
  },
  {
   "cell_type": "markdown",
   "metadata": {},
   "source": [
    "#### randomized SVM"
   ]
  },
  {
   "cell_type": "code",
   "execution_count": 14,
   "metadata": {
    "scrolled": true
   },
   "outputs": [
    {
     "name": "stderr",
     "output_type": "stream",
     "text": [
      "100%|██████████| 50/50 [00:44<00:00,  1.12it/s]\n"
     ]
    }
   ],
   "source": [
    "iterations = 50\n",
    "scores = np.empty((iterations))\n",
    "times = np.empty((iterations))\n",
    "    \n",
    "\n",
    "for i in trange(iterations):\n",
    "    start = perf_counter()\n",
    "    random_svm = SVC(kernel=generate_kernel())\n",
    "    random_svm.fit(X_train, y_train)\n",
    "    scores[i] = random_svm.score(X_test, y_test)\n",
    "    times[i]= perf_counter() - start\n",
    "\n",
    "stat = np.empty(7)\n",
    "stat[0] = np.min(scores)\n",
    "stat[1] = np.quantile(scores, 0.25)\n",
    "stat[2] = np.median(scores)\n",
    "stat[3] = np.quantile(scores, 0.75)\n",
    "stat[4] = np.max(scores)\n",
    "stat[5] = np.mean(scores)\n",
    "stat[6] = np.std(scores)"
   ]
  },
  {
   "cell_type": "markdown",
   "metadata": {},
   "source": [
    "### results"
   ]
  },
  {
   "cell_type": "markdown",
   "metadata": {},
   "source": [
    "#### deterministic SVM"
   ]
  },
  {
   "cell_type": "code",
   "execution_count": 55,
   "metadata": {},
   "outputs": [
    {
     "name": "stdout",
     "output_type": "stream",
     "text": [
      "Accuracy: \t0.905 \n",
      "Time: \t\t0.6659254374999932\n"
     ]
    }
   ],
   "source": [
    "print(f'Accuracy: \\t{det_score} \\nTime: \\t\\t{np.mean(det_times)}')"
   ]
  },
  {
   "cell_type": "markdown",
   "metadata": {},
   "source": [
    "#### randomized SVM"
   ]
  },
  {
   "cell_type": "code",
   "execution_count": 54,
   "metadata": {},
   "outputs": [
    {
     "name": "stdout",
     "output_type": "stream",
     "text": [
      "Mean accuracy: \t0.8167 \n",
      "Stdev: \t\t0.021693547427749083 \n",
      "Mean time: \t0.8894944399999986\n",
      "\n",
      "Accuracy stats: \n",
      "  Q0: \t0.765 \n",
      "  Q1: \t0.8 \n",
      "  Q2: \t0.82 \n",
      "  Q3: \t0.835 \n",
      "  Q4: \t0.855\n"
     ]
    }
   ],
   "source": [
    "print(f'Mean accuracy: \\t{stat[5]} \\nStdev: \\t\\t{stat[6]} \\nMean time: \\t{np.mean(times)}\\n')\n",
    "print(f'Accuracy stats: \\n  Q0: \\t{stat[0]} \\n  Q1: \\t{stat[1]} \\n  Q2: \\t{stat[2]} \\n  Q3: \\t{stat[3]} \\n  Q4: \\t{stat[4]}')"
   ]
  },
  {
   "cell_type": "code",
   "execution_count": 36,
   "metadata": {},
   "outputs": [
    {
     "data": {
      "image/png": "[encoded data removed]",
      "text/plain": [
       "<Figure size 432x288 with 1 Axes>"
      ]
     },
     "metadata": {
      "needs_background": "light"
     },
     "output_type": "display_data"
    }
   ],
   "source": [
    "plt.hist(scores, bins=20);"
   ]
  },
  {
   "cell_type": "code",
   "execution_count": 35,
   "metadata": {},
   "outputs": [
    {
     "data": {
      "image/png": "[encoded data removed]",
      "text/plain": [
       "<Figure size 432x288 with 1 Axes>"
      ]
     },
     "metadata": {
      "needs_background": "light"
     },
     "output_type": "display_data"
    }
   ],
   "source": [
    "plt.hist(times, bins=30);"
   ]
  },
  {
   "cell_type": "code",
   "execution_count": 23,
   "metadata": {},
   "outputs": [
    {
     "data": {
      "image/png": "[encoded data removed]",
      "text/plain": [
       "<Figure size 432x288 with 1 Axes>"
      ]
     },
     "metadata": {
      "needs_background": "light"
     },
     "output_type": "display_data"
    }
   ],
   "source": [
    "plt.hist2d(scores, times, bins=10, cmap='inferno');"
   ]
  },
  {
   "cell_type": "markdown",
   "metadata": {},
   "source": [
    "We see that our randomized algorithm does not perform quite as well as the default deterministic version, but it is able to come quite close."
   ]
  },
  {
   "cell_type": "markdown",
   "metadata": {},
   "source": [
    "## RSVD/RID performance"
   ]
  },
  {
   "cell_type": "code",
   "execution_count": 19,
   "metadata": {},
   "outputs": [],
   "source": [
    "# TODO"
   ]
  }
 ],
 "metadata": {
  "kernelspec": {
   "display_name": "Python [conda env:icerm]",
   "language": "python",
   "name": "conda-env-icerm-py"
  },
  "language_info": {
   "codemirror_mode": {
    "name": "ipython",
    "version": 3
   },
   "file_extension": ".py",
   "mimetype": "text/x-python",
   "name": "python",
   "nbconvert_exporter": "python",
   "pygments_lexer": "ipython3",
   "version": "3.8.3"
  }
 },
 "nbformat": 4,
 "nbformat_minor": 4
}
