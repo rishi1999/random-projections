{
 "cells": [
  {
   "cell_type": "code",
   "execution_count": 1,
   "metadata": {},
   "outputs": [],
   "source": [
    "import numpy as np\n",
    "from numpy import random\n",
    "import math\n",
    "from matplotlib import pyplot as plt"
   ]
  },
  {
   "cell_type": "code",
   "execution_count": 2,
   "metadata": {},
   "outputs": [],
   "source": [
    "d = 1000\n",
    "k = 10"
   ]
  },
  {
   "cell_type": "code",
   "execution_count": 3,
   "metadata": {},
   "outputs": [],
   "source": [
    "u = random.randn(d,1)\n",
    "u = u / np.linalg.norm(u)\n",
    "u_squared_norm = np.sum(np.square(u))"
   ]
  },
  {
   "cell_type": "code",
   "execution_count": 4,
   "metadata": {},
   "outputs": [],
   "source": [
    "iterations = 10000"
   ]
  },
  {
   "cell_type": "code",
   "execution_count": 5,
   "metadata": {},
   "outputs": [],
   "source": [
    "v_list = np.empty(iterations)"
   ]
  },
  {
   "cell_type": "code",
   "execution_count": 6,
   "metadata": {},
   "outputs": [],
   "source": [
    "for i in range(iterations):\n",
    "    R = random.randn(k,d)\n",
    "    v = 1/math.sqrt(k) * R @ u\n",
    "    v_list[i] = np.sum(np.square(v))"
   ]
  },
  {
   "cell_type": "code",
   "execution_count": 7,
   "metadata": {},
   "outputs": [],
   "source": [
    "v_delta = v_list - u_squared_norm"
   ]
  },
  {
   "cell_type": "code",
   "execution_count": 8,
   "metadata": {},
   "outputs": [
    {
     "data": {
      "text/plain": [
       "1.0"
      ]
     },
     "execution_count": 8,
     "metadata": {},
     "output_type": "execute_result"
    }
   ],
   "source": [
    "u_squared_norm"
   ]
  },
  {
   "cell_type": "code",
   "execution_count": 9,
   "metadata": {},
   "outputs": [
    {
     "data": {
      "text/plain": [
       "0.0021196396470252333"
      ]
     },
     "execution_count": 9,
     "metadata": {},
     "output_type": "execute_result"
    }
   ],
   "source": [
    "np.mean(v_delta)"
   ]
  },
  {
   "cell_type": "code",
   "execution_count": 10,
   "metadata": {
    "scrolled": true
   },
   "outputs": [
    {
     "data": {
      "text/plain": [
       "0.44674772190662215"
      ]
     },
     "execution_count": 10,
     "metadata": {},
     "output_type": "execute_result"
    }
   ],
   "source": [
    "np.std(v_delta)"
   ]
  },
  {
   "cell_type": "code",
   "execution_count": 11,
   "metadata": {
    "scrolled": true
   },
   "outputs": [
    {
     "data": {
      "text/plain": [
       "0.1995835270287566"
      ]
     },
     "execution_count": 11,
     "metadata": {},
     "output_type": "execute_result"
    }
   ],
   "source": [
    "np.var(v_delta)"
   ]
  },
  {
   "cell_type": "code",
   "execution_count": 12,
   "metadata": {},
   "outputs": [
    {
     "data": {
      "text/plain": [
       "(array([  4.,   8.,  20.,  23.,  44.,  54.,  84., 132., 140., 167., 198.,\n",
       "        184., 236., 249., 299., 279., 321., 341., 332., 321., 329., 321.,\n",
       "        290., 337., 356., 299., 310., 322., 287., 263., 258., 227., 236.,\n",
       "        208., 204., 229., 165., 158., 173., 155., 121., 100., 108.,  96.,\n",
       "        105., 101.,  92.,  82.,  67.,  60.,  53.,  34.,  44.,  38.,  29.,\n",
       "         32.,  29.,  22.,  16.,  24.,  15.,  19.,  17.,  10.,  15.,  15.,\n",
       "         12.,  12.,  12.,   3.,   5.,   7.,   7.,   6.,   3.,   4.,   3.,\n",
       "          3.,   5.,   1.,   2.,   1.,   2.,   1.,   1.,   0.,   0.,   0.,\n",
       "          0.,   0.,   1.,   0.,   0.,   1.,   0.,   0.,   0.,   0.,   0.,\n",
       "          1.]),\n",
       " array([-0.91949847, -0.88486996, -0.85024145, -0.81561294, -0.78098443,\n",
       "        -0.74635592, -0.71172741, -0.6770989 , -0.64247039, -0.60784188,\n",
       "        -0.57321337, -0.53858486, -0.50395635, -0.46932784, -0.43469933,\n",
       "        -0.40007082, -0.36544231, -0.3308138 , -0.29618529, -0.26155678,\n",
       "        -0.22692827, -0.19229976, -0.15767125, -0.12304274, -0.08841423,\n",
       "        -0.05378572, -0.01915721,  0.0154713 ,  0.05009981,  0.08472832,\n",
       "         0.11935683,  0.15398534,  0.18861385,  0.22324236,  0.25787087,\n",
       "         0.29249938,  0.32712789,  0.3617564 ,  0.39638491,  0.43101342,\n",
       "         0.46564193,  0.50027044,  0.53489895,  0.56952746,  0.60415597,\n",
       "         0.63878448,  0.67341299,  0.7080415 ,  0.74267001,  0.77729852,\n",
       "         0.81192703,  0.84655554,  0.88118405,  0.91581256,  0.95044107,\n",
       "         0.98506958,  1.01969809,  1.0543266 ,  1.08895511,  1.12358362,\n",
       "         1.15821213,  1.19284064,  1.22746915,  1.26209766,  1.29672617,\n",
       "         1.33135468,  1.36598319,  1.4006117 ,  1.43524021,  1.46986872,\n",
       "         1.50449723,  1.53912574,  1.57375425,  1.60838276,  1.64301127,\n",
       "         1.67763978,  1.71226829,  1.7468968 ,  1.78152531,  1.81615382,\n",
       "         1.85078233,  1.88541084,  1.92003935,  1.95466786,  1.98929637,\n",
       "         2.02392488,  2.05855339,  2.0931819 ,  2.12781041,  2.16243892,\n",
       "         2.19706743,  2.23169594,  2.26632445,  2.30095296,  2.33558147,\n",
       "         2.37020998,  2.40483849,  2.439467  ,  2.47409551,  2.50872402,\n",
       "         2.54335253]),\n",
       " <a list of 100 Patch objects>)"
      ]
     },
     "execution_count": 12,
     "metadata": {},
     "output_type": "execute_result"
    },
    {
     "data": {
      "image/png": "[encoded data removed]",
      "text/plain": [
       "<Figure size 432x288 with 1 Axes>"
      ]
     },
     "metadata": {
      "needs_background": "light"
     },
     "output_type": "display_data"
    }
   ],
   "source": [
    "plt.hist(v_delta, bins=100)"
   ]
  },
  {
   "cell_type": "code",
   "execution_count": null,
   "metadata": {},
   "outputs": [],
   "source": []
  }
 ],
 "metadata": {
  "kernelspec": {
   "display_name": "Python 3",
   "language": "python",
   "name": "python3"
  },
  "language_info": {
   "codemirror_mode": {
    "name": "ipython",
    "version": 3
   },
   "file_extension": ".py",
   "mimetype": "text/x-python",
   "name": "python",
   "nbconvert_exporter": "python",
   "pygments_lexer": "ipython3",
   "version": "3.7.4"
  }
 },
 "nbformat": 4,
 "nbformat_minor": 2
}
