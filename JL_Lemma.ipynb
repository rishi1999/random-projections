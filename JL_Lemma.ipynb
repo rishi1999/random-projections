{
 "cells": [
  {
   "cell_type": "code",
   "execution_count": 94,
   "metadata": {},
   "outputs": [],
   "source": [
    "import numpy as np\n",
    "from numpy import random\n",
    "import math\n",
    "from matplotlib import pyplot as plt"
   ]
  },
  {
   "cell_type": "code",
   "execution_count": 165,
   "metadata": {},
   "outputs": [],
   "source": [
    "d = 1000\n",
    "k = 10"
   ]
  },
  {
   "cell_type": "code",
   "execution_count": 166,
   "metadata": {},
   "outputs": [],
   "source": [
    "u = random.randn(d,1)\n",
    "u_squared_norm = np.sum(np.square(u))"
   ]
  },
  {
   "cell_type": "code",
   "execution_count": 167,
   "metadata": {},
   "outputs": [],
   "source": [
    "iterations = 10000"
   ]
  },
  {
   "cell_type": "code",
   "execution_count": 168,
   "metadata": {},
   "outputs": [],
   "source": [
    "v_list = np.empty(iterations)"
   ]
  },
  {
   "cell_type": "code",
   "execution_count": 169,
   "metadata": {},
   "outputs": [],
   "source": [
    "for i in range(iterations):\n",
    "    R = random.randn(k,d)\n",
    "    v = 1/math.sqrt(k) * R @ u\n",
    "    v_list[i] = np.sum(np.square(v))"
   ]
  },
  {
   "cell_type": "code",
   "execution_count": 170,
   "metadata": {},
   "outputs": [],
   "source": [
    "v_delta = v_list - u_squared_norm"
   ]
  },
  {
   "cell_type": "code",
   "execution_count": 171,
   "metadata": {},
   "outputs": [
    {
     "data": {
      "text/plain": [
       "1017.0806109493445"
      ]
     },
     "execution_count": 171,
     "metadata": {},
     "output_type": "execute_result"
    }
   ],
   "source": [
    "u_squared_norm"
   ]
  },
  {
   "cell_type": "code",
   "execution_count": 172,
   "metadata": {},
   "outputs": [
    {
     "data": {
      "text/plain": [
       "1.9110103018252935"
      ]
     },
     "execution_count": 172,
     "metadata": {},
     "output_type": "execute_result"
    }
   ],
   "source": [
    "np.mean(v_delta)"
   ]
  },
  {
   "cell_type": "code",
   "execution_count": 173,
   "metadata": {
    "scrolled": true
   },
   "outputs": [
    {
     "data": {
      "text/plain": [
       "460.21090379021575"
      ]
     },
     "execution_count": 173,
     "metadata": {},
     "output_type": "execute_result"
    }
   ],
   "source": [
    "np.std(v_delta)"
   ]
  },
  {
   "cell_type": "code",
   "execution_count": 174,
   "metadata": {
    "scrolled": true
   },
   "outputs": [
    {
     "data": {
      "text/plain": [
       "211794.07596740723"
      ]
     },
     "execution_count": 174,
     "metadata": {},
     "output_type": "execute_result"
    }
   ],
   "source": [
    "np.var(v_delta)"
   ]
  },
  {
   "cell_type": "code",
   "execution_count": 179,
   "metadata": {},
   "outputs": [
    {
     "data": {
      "text/plain": [
       "(array([  2.,   5.,  19.,  25.,  46.,  56., 101., 120., 162., 178., 216.,\n",
       "        205., 231., 264., 322., 310., 335., 327., 367., 362., 335., 351.,\n",
       "        331., 316., 326., 343., 306., 296., 285., 235., 252., 240., 217.,\n",
       "        211., 198., 182., 178., 152., 156., 152., 116., 142.,  87.,  95.,\n",
       "         96.,  72.,  62.,  77.,  56.,  51.,  55.,  31.,  29.,  37.,  29.,\n",
       "         22.,  21.,  21.,  28.,  13.,  15.,  14.,  17.,  13.,  10.,   8.,\n",
       "          7.,   8.,   5.,   7.,   8.,   8.,   2.,   2.,   1.,   2.,   6.,\n",
       "          1.,   0.,   1.,   2.,   0.,   3.,   1.,   1.,   0.,   1.,   0.,\n",
       "          0.,   0.,   0.,   0.,   0.,   1.,   0.,   0.,   0.,   0.,   0.,\n",
       "          1.]),\n",
       " array([-950.97741945, -914.06382203, -877.15022461, -840.23662718,\n",
       "        -803.32302976, -766.40943233, -729.49583491, -692.58223749,\n",
       "        -655.66864006, -618.75504264, -581.84144521, -544.92784779,\n",
       "        -508.01425037, -471.10065294, -434.18705552, -397.2734581 ,\n",
       "        -360.35986067, -323.44626325, -286.53266582, -249.6190684 ,\n",
       "        -212.70547098, -175.79187355, -138.87827613, -101.96467871,\n",
       "         -65.05108128,  -28.13748386,    8.77611357,   45.68971099,\n",
       "          82.60330841,  119.51690584,  156.43050326,  193.34410068,\n",
       "         230.25769811,  267.17129553,  304.08489296,  340.99849038,\n",
       "         377.9120878 ,  414.82568523,  451.73928265,  488.65288008,\n",
       "         525.5664775 ,  562.48007492,  599.39367235,  636.30726977,\n",
       "         673.22086719,  710.13446462,  747.04806204,  783.96165947,\n",
       "         820.87525689,  857.78885431,  894.70245174,  931.61604916,\n",
       "         968.52964658, 1005.44324401, 1042.35684143, 1079.27043886,\n",
       "        1116.18403628, 1153.0976337 , 1190.01123113, 1226.92482855,\n",
       "        1263.83842598, 1300.7520234 , 1337.66562082, 1374.57921825,\n",
       "        1411.49281567, 1448.40641309, 1485.32001052, 1522.23360794,\n",
       "        1559.14720537, 1596.06080279, 1632.97440021, 1669.88799764,\n",
       "        1706.80159506, 1743.71519248, 1780.62878991, 1817.54238733,\n",
       "        1854.45598476, 1891.36958218, 1928.2831796 , 1965.19677703,\n",
       "        2002.11037445, 2039.02397188, 2075.9375693 , 2112.85116672,\n",
       "        2149.76476415, 2186.67836157, 2223.59195899, 2260.50555642,\n",
       "        2297.41915384, 2334.33275127, 2371.24634869, 2408.15994611,\n",
       "        2445.07354354, 2481.98714096, 2518.90073838, 2555.81433581,\n",
       "        2592.72793323, 2629.64153066, 2666.55512808, 2703.4687255 ,\n",
       "        2740.38232293]),\n",
       " <a list of 100 Patch objects>)"
      ]
     },
     "execution_count": 179,
     "metadata": {},
     "output_type": "execute_result"
    },
    {
     "data": {
      "image/png": "[encoded data removed]",
      "text/plain": [
       "<Figure size 432x288 with 1 Axes>"
      ]
     },
     "metadata": {
      "needs_background": "light"
     },
     "output_type": "display_data"
    }
   ],
   "source": [
    "plt.hist(v_delta, bins=100)"
   ]
  },
  {
   "cell_type": "code",
   "execution_count": null,
   "metadata": {},
   "outputs": [],
   "source": []
  }
 ],
 "metadata": {
  "kernelspec": {
   "display_name": "icerm_ker",
   "language": "python",
   "name": "icerm_ker"
  },
  "language_info": {
   "codemirror_mode": {
    "name": "ipython",
    "version": 3
   },
   "file_extension": ".py",
   "mimetype": "text/x-python",
   "name": "python",
   "nbconvert_exporter": "python",
   "pygments_lexer": "ipython3",
   "version": "3.8.3"
  }
 },
 "nbformat": 4,
 "nbformat_minor": 2
}
